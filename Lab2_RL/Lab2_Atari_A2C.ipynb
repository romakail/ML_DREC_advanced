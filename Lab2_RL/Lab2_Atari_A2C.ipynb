{
 "cells": [
  {
   "cell_type": "markdown",
   "metadata": {},
   "source": [
    "# Lab 3: Mastering A2C (and Kung-Fu)\n",
    "\n",
    "This part is based on [Practical RL week08 practice](https://github.com/yandexdataschool/Practical_RL/tree/master/week08_pomdp). All rights belong to original authors"
   ]
  },
  {
   "cell_type": "markdown",
   "metadata": {},
   "source": [
    "__Please, note that supplementary files require tensorflow version 1.15.0 (while TF 2.0 is actually released now). Please downgrade your TF or create new environment.__"
   ]
  },
  {
   "cell_type": "code",
   "execution_count": 1,
   "metadata": {},
   "outputs": [],
   "source": [
    "# This versions shpuld work fine\n",
    "\n",
    "# ! conda install scipy==1.0.1\n",
    "# ! conda install tensorflow==1.15.0 --force-reinstall\n"
   ]
  },
  {
   "cell_type": "code",
   "execution_count": 2,
   "metadata": {},
   "outputs": [
    {
     "name": "stdout",
     "output_type": "stream",
     "text": [
      "We are displaying\n",
      "bash: ../xvfb: No such file or directory\r\n"
     ]
    }
   ],
   "source": [
    "from __future__ import print_function, division\n",
    "from IPython.core import display\n",
    "import matplotlib.pyplot as plt\n",
    "%matplotlib inline\n",
    "import numpy as np\n",
    "\n",
    "# if you're running in colab\n",
    "# !wget https://raw.githubusercontent.com/yandexdataschool/Practical_RL/0ccb0673965dd650d9b284e1ec90c2bfd82c8a94/week08_pomdp/atari_util.py\n",
    "# !wget https://raw.githubusercontent.com/yandexdataschool/Practical_RL/0ccb0673965dd650d9b284e1ec90c2bfd82c8a94/week08_pomdp/env_pool.py\n",
    "\n",
    "# If you are running on a server, launch xvfb to record game videos\n",
    "# Please make sure you have xvfb installed\n",
    "import os\n",
    "if type(os.environ.get(\"DISPLAY\")) is not str or len(os.environ.get(\"DISPLAY\")) == 0:\n",
    "    print ('We are displaying')\n",
    "    !bash ../xvfb start\n",
    "    os.environ['DISPLAY'] = ':1'"
   ]
  },
  {
   "cell_type": "markdown",
   "metadata": {},
   "source": [
    "### Kung-Fu, recurrent style\n",
    "\n",
    "In this notebook we'll once again train RL agent for for atari [KungFuMaster](https://gym.openai.com/envs/KungFuMaster-v0/), this time using recurrent neural networks.\n",
    "\n",
    "![http://www.retroland.com/wp-content/uploads/2011/07/King-Fu-Master.jpg](http://www.retroland.com/wp-content/uploads/2011/07/King-Fu-Master.jpg)"
   ]
  },
  {
   "cell_type": "code",
   "execution_count": 3,
   "metadata": {},
   "outputs": [
    {
     "name": "stdout",
     "output_type": "stream",
     "text": [
      "Observation shape: (1, 42, 42)\n",
      "Num actions: 14\n",
      "Action names: ['NOOP', 'UP', 'RIGHT', 'LEFT', 'DOWN', 'DOWNRIGHT', 'DOWNLEFT', 'RIGHTFIRE', 'LEFTFIRE', 'DOWNFIRE', 'UPRIGHTFIRE', 'UPLEFTFIRE', 'DOWNRIGHTFIRE', 'DOWNLEFTFIRE']\n"
     ]
    }
   ],
   "source": [
    "import gym\n",
    "from atari_util import PreprocessAtari\n",
    "\n",
    "\n",
    "def make_env():\n",
    "    env = gym.make(\"KungFuMasterDeterministic-v0\")\n",
    "    env = PreprocessAtari(env, height=42, width=42,\n",
    "                          crop=lambda img: img[60:-30, 15:],\n",
    "                          color=False, n_frames=1)\n",
    "    return env\n",
    "\n",
    "\n",
    "env = make_env()\n",
    "\n",
    "obs_shape = env.observation_space.shape\n",
    "n_actions = env.action_space.n\n",
    "\n",
    "print(\"Observation shape:\", obs_shape)\n",
    "print(\"Num actions:\", n_actions)\n",
    "print(\"Action names:\", env.env.env.get_action_meanings())"
   ]
  },
  {
   "cell_type": "code",
   "execution_count": 4,
   "metadata": {},
   "outputs": [
    {
     "data": {
      "image/png": "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\n",
      "text/plain": [
       "<Figure size 432x288 with 1 Axes>"
      ]
     },
     "metadata": {
      "needs_background": "light"
     },
     "output_type": "display_data"
    },
    {
     "data": {
      "image/png": "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\n",
      "text/plain": [
       "<Figure size 432x288 with 1 Axes>"
      ]
     },
     "metadata": {
      "needs_background": "light"
     },
     "output_type": "display_data"
    }
   ],
   "source": [
    "s = env.reset()\n",
    "for _ in range(100):\n",
    "    s, _, _, _ = env.step(env.action_space.sample())\n",
    "\n",
    "plt.title('Game image')\n",
    "plt.imshow(env.render('rgb_array'))\n",
    "plt.show()\n",
    "\n",
    "plt.title('Agent observation')\n",
    "plt.imshow(s.reshape([42, 42]))\n",
    "plt.show()"
   ]
  },
  {
   "cell_type": "markdown",
   "metadata": {},
   "source": [
    "### POMDP setting\n",
    "\n",
    "The atari game we're working with is actually a POMDP: your agent needs to know timing at which enemies spawn and move, but cannot do so unless it has some memory. \n",
    "\n",
    "Let's design another agent that has a recurrent neural net memory to solve this. Here's a sketch.\n",
    "\n",
    "![img](img1.jpg)\n"
   ]
  },
  {
   "cell_type": "code",
   "execution_count": 5,
   "metadata": {},
   "outputs": [],
   "source": [
    "import torch\n",
    "import torch.nn as nn\n",
    "import torch.nn.functional as F\n",
    "\n",
    "# a special module that converts [batch, channel, w, h] to [batch, units]\n",
    "\n",
    "\n",
    "class Flatten(nn.Module):\n",
    "    def forward(self, input):\n",
    "        return input.view(input.size(0), -1)"
   ]
  },
  {
   "cell_type": "code",
   "execution_count": 6,
   "metadata": {},
   "outputs": [
    {
     "data": {
      "text/plain": [
       "device(type='cuda', index=5)"
      ]
     },
     "execution_count": 6,
     "metadata": {},
     "output_type": "execute_result"
    }
   ],
   "source": [
    "device = torch.device('cuda:5') if torch.cuda.is_available() else torch.device('cpu')\n",
    "# device = torch.device('cpu')\n",
    "device"
   ]
  },
  {
   "cell_type": "code",
   "execution_count": 7,
   "metadata": {},
   "outputs": [],
   "source": [
    "class SimpleRecurrentAgent(nn.Module):\n",
    "    def __init__(self, obs_shape, n_actions, reuse=False):\n",
    "        \"\"\"A simple actor-critic agent\"\"\"\n",
    "        super(self.__class__, self).__init__()\n",
    "\n",
    "        self.conv0 = nn.Conv2d(1, 32, kernel_size=(3, 3), stride=(2, 2))\n",
    "        self.conv1 = nn.Conv2d(32, 32, kernel_size=(3, 3), stride=(2, 2))\n",
    "        self.conv2 = nn.Conv2d(32, 32, kernel_size=(3, 3), stride=(2, 2))\n",
    "        self.activation = nn.ReLU()\n",
    "        self.flatten = Flatten()\n",
    "\n",
    "        self.hid = nn.Linear(512, 128)\n",
    "        self.rnn = nn.LSTMCell(128, 128)\n",
    "\n",
    "        self.logits = nn.Linear(128, n_actions)\n",
    "        self.state_value = nn.Linear(128, 1)\n",
    "\n",
    "    def forward(self, prev_state, obs_t):\n",
    "        \"\"\"\n",
    "        Takes agent's previous step and observation, \n",
    "        returns next state and whatever it needs to learn (tf tensors)\n",
    "        \"\"\"\n",
    "\n",
    "        # YOUR CODE: apply the whole neural net for one step here.\n",
    "        # See docs on self.rnn(...)\n",
    "        # the recurrent cell should take the last feedforward dense layer as input\n",
    "        \n",
    "        \n",
    "        emb = self.activation(self.conv0(obs_t))\n",
    "        emb = self.activation(self.conv1(emb))\n",
    "        emb = self.activation(self.conv2(emb))\n",
    "        \n",
    "        emb = self.hid(self.flatten(emb))\n",
    "        \n",
    "        new_state = self.rnn(emb, prev_state)\n",
    "        logits = self.logits(new_state[0])\n",
    "        state_value = self.state_value(new_state[0])\n",
    "\n",
    "        return new_state, (logits, state_value)\n",
    "\n",
    "    def get_initial_state(self, batch_size):\n",
    "        \"\"\"Return a list of agent memory states at game start. Each state is a np array of shape [batch_size, ...]\"\"\"\n",
    "        return torch.zeros((batch_size, 128)), torch.zeros((batch_size, 128))\n",
    "\n",
    "    def sample_actions(self, agent_outputs):\n",
    "        \"\"\"pick actions given numeric agent outputs (np arrays)\"\"\"\n",
    "        logits, state_values = agent_outputs\n",
    "        probs = F.softmax(logits)\n",
    "        return torch.multinomial(probs, 1)[:, 0].data.numpy()\n",
    "\n",
    "    def step(self, prev_state, obs_t):\n",
    "        \"\"\" like forward, but obs_t is a numpy array \"\"\"\n",
    "        obs_t = torch.tensor(np.asarray(obs_t), dtype=torch.float32)\n",
    "        (h, c), (l, s) = self.forward(prev_state, obs_t)\n",
    "        return (h.detach(), c.detach()), (l.detach(), s.detach())"
   ]
  },
  {
   "cell_type": "code",
   "execution_count": 8,
   "metadata": {},
   "outputs": [],
   "source": [
    "n_parallel_games = 5\n",
    "gamma = 0.99\n",
    "\n",
    "agent = SimpleRecurrentAgent(obs_shape, n_actions)"
   ]
  },
  {
   "cell_type": "code",
   "execution_count": 9,
   "metadata": {},
   "outputs": [
    {
     "name": "stdout",
     "output_type": "stream",
     "text": [
      "action logits:\n",
<<<<<<< HEAD
      " tensor([[ 0.0677,  0.0169,  0.0276, -0.0320,  0.0566, -0.0592, -0.0245,  0.0132,\n",
      "          0.0799, -0.0170, -0.0507, -0.0856,  0.0033, -0.0260]])\n",
      "state values:\n",
      " tensor([[-0.0577]])\n"
=======
      " tensor([[ 0.0149,  0.0246, -0.0224,  0.0121,  0.0681, -0.0112,  0.0108, -0.0911,\n",
      "          0.0012,  0.0472,  0.0263, -0.0378, -0.0776, -0.0448]])\n",
      "state values:\n",
      " tensor([[0.0553]])\n"
>>>>>>> d6f19c443b9ab2c3bc1202329c09b1200d144d4d
     ]
    }
   ],
   "source": [
    "state = [env.reset()]\n",
    "_, (logits, value) = agent.step(agent.get_initial_state(1), state)\n",
    "print(\"action logits:\\n\", logits)\n",
    "print(\"state values:\\n\", value)"
   ]
  },
  {
   "cell_type": "markdown",
   "metadata": {},
   "source": [
    "### Let's play!\n",
    "Let's build a function that measures agent's average reward."
   ]
  },
  {
   "cell_type": "code",
   "execution_count": 10,
   "metadata": {},
   "outputs": [],
   "source": [
    "def evaluate(agent, env, n_games=1):\n",
    "    \"\"\"Plays an entire game start to end, returns session rewards.\"\"\"\n",
    "\n",
    "    game_rewards = []\n",
    "    for _ in range(n_games):\n",
    "        # initial observation and memory\n",
    "        observation = env.reset()\n",
    "        prev_memories = agent.get_initial_state(1)\n",
    "\n",
    "        total_reward = 0\n",
    "        while True:\n",
    "            new_memories, readouts = agent.step(\n",
    "                prev_memories, observation[None, ...])\n",
    "            action = agent.sample_actions(readouts)\n",
    "\n",
    "            observation, reward, done, info = env.step(action[0])\n",
    "\n",
    "            total_reward += reward\n",
    "            prev_memories = new_memories\n",
    "            if done:\n",
    "                break\n",
    "\n",
    "        game_rewards.append(total_reward)\n",
    "    return game_rewards"
   ]
  },
  {
   "cell_type": "code",
   "execution_count": 11,
   "metadata": {},
   "outputs": [],
   "source": [
    "# env_monitor = gym.wrappers.Monitor(env, directory=\"kungfu_videos\", force=True)\n",
    "# rw = evaluate(agent, env_monitor, n_games=3,)\n",
    "# env_monitor.close()\n",
    "# print(rw)"
   ]
  },
  {
   "cell_type": "code",
   "execution_count": 12,
   "metadata": {},
   "outputs": [
    {
     "ename": "IndexError",
     "evalue": "list index out of range",
     "output_type": "error",
     "traceback": [
      "\u001b[0;31m---------------------------------------------------------------------------\u001b[0m",
      "\u001b[0;31mIndexError\u001b[0m                                Traceback (most recent call last)",
      "\u001b[0;32m<ipython-input-12-bce333cde882>\u001b[0m in \u001b[0;36m<module>\u001b[0;34m\u001b[0m\n\u001b[1;32m     10\u001b[0m   \u001b[0;34m<\u001b[0m\u001b[0msource\u001b[0m \u001b[0msrc\u001b[0m\u001b[0;34m=\u001b[0m\u001b[0;34m\"{}\"\u001b[0m \u001b[0mtype\u001b[0m\u001b[0;34m=\u001b[0m\u001b[0;34m\"video/mp4\"\u001b[0m\u001b[0;34m>\u001b[0m\u001b[0;34m\u001b[0m\u001b[0;34m\u001b[0m\u001b[0m\n\u001b[1;32m     11\u001b[0m \u001b[0;34m<\u001b[0m\u001b[0;34m/\u001b[0m\u001b[0mvideo\u001b[0m\u001b[0;34m>\u001b[0m\u001b[0;34m\u001b[0m\u001b[0;34m\u001b[0m\u001b[0m\n\u001b[0;32m---> 12\u001b[0;31m \"\"\".format(\"./kungfu_videos/\"+video_names[-1]))  # this may or may not be _last_ video. Try other indices\n\u001b[0m",
      "\u001b[0;31mIndexError\u001b[0m: list index out of range"
     ]
    }
   ],
   "source": [
    "# show video\n",
    "from IPython.display import HTML\n",
    "import os\n",
    "\n",
    "video_names = list(filter(lambda s: s.endswith(\n",
    "    \".mp4\"), os.listdir(\"./kungfu_videos/\")))\n",
    "\n",
    "HTML(\"\"\"\n",
    "<video width=\"640\" height=\"480\" controls>\n",
    "  <source src=\"{}\" type=\"video/mp4\">\n",
    "</video>\n",
    "\"\"\".format(\"./kungfu_videos/\"+video_names[-1]))  # this may or may not be _last_ video. Try other indices"
   ]
  },
  {
   "cell_type": "markdown",
   "metadata": {},
   "source": [
    "### Training on parallel games\n",
    "\n",
    "We introduce a class called EnvPool - it's a tool that handles multiple environments for you. Here's how it works:\n",
    "![img](img2.jpg)"
   ]
  },
  {
   "cell_type": "code",
   "execution_count": 13,
   "metadata": {},
   "outputs": [],
   "source": [
    "from env_pool import EnvPool\n",
    "pool = EnvPool(agent, make_env, n_parallel_games)"
   ]
  },
  {
   "cell_type": "markdown",
   "metadata": {},
   "source": [
    "We gonna train our agent on a thing called __rollouts:__\n",
    "![img](img3.jpg)\n",
    "\n",
    "A rollout is just a sequence of T observations, actions and rewards that agent took consequently.\n",
    "* First __s0__ is not necessarily initial state for the environment\n",
    "* Final state is not necessarily terminal\n",
    "* We sample several parallel rollouts for efficiency"
   ]
  },
  {
   "cell_type": "code",
   "execution_count": 14,
   "metadata": {},
   "outputs": [
    {
     "name": "stderr",
     "output_type": "stream",
     "text": [
      "/home/romakail/anaconda3/lib/python3.7/site-packages/ipykernel_launcher.py:48: UserWarning: Implicit dimension choice for softmax has been deprecated. Change the call to include dim=X as an argument.\n"
     ]
    }
   ],
   "source": [
    "# for each of n_parallel_games, take 10 steps\n",
    "rollout_obs, rollout_actions, rollout_rewards, rollout_mask = pool.interact(10)"
   ]
  },
  {
   "cell_type": "code",
   "execution_count": 15,
   "metadata": {},
   "outputs": [
    {
     "name": "stdout",
     "output_type": "stream",
     "text": [
      "Actions shape: (5, 10)\n",
      "Rewards shape: (5, 10)\n",
      "Mask shape: (5, 10)\n",
      "Observations shape:  (5, 10, 1, 42, 42)\n"
     ]
    }
   ],
   "source": [
    "print(\"Actions shape:\", rollout_actions.shape)\n",
    "print(\"Rewards shape:\", rollout_rewards.shape)\n",
    "print(\"Mask shape:\", rollout_mask.shape)\n",
    "print(\"Observations shape: \", rollout_obs.shape)"
   ]
  },
  {
   "cell_type": "markdown",
   "metadata": {},
   "source": [
    "# Actor-critic objective\n",
    "\n",
    "Here we define a loss function that uses rollout above to train advantage actor-critic agent.\n",
    "\n",
    "\n",
    "Our loss consists of three components:\n",
    "\n",
    "* __The policy \"loss\"__\n",
    " $$ \\hat J = {1 \\over T} \\cdot \\sum_t { \\log \\pi(a_t | s_t) } \\cdot A_{const}(s,a) $$\n",
    "  * This function has no meaning in and of itself, but it was built such that\n",
    "  * $ \\nabla \\hat J = {1 \\over N} \\cdot \\sum_t { \\nabla \\log \\pi(a_t | s_t) } \\cdot A(s,a) \\approx \\nabla E_{s, a \\sim \\pi} R(s,a) $\n",
    "  * Therefore if we __maximize__ J_hat with gradient descent we will maximize expected reward\n",
    "  \n",
    "  \n",
    "* __The value \"loss\"__\n",
    "  $$ L_{td} = {1 \\over T} \\cdot \\sum_t { [r + \\gamma \\cdot V_{const}(s_{t+1}) - V(s_t)] ^ 2 }$$\n",
    "  * Ye Olde TD_loss from q-learning and alike\n",
    "  * If we minimize this loss, V(s) will converge to $V_\\pi(s) = E_{a \\sim \\pi(a | s)} R(s,a) $\n",
    "\n",
    "\n",
    "* __Entropy Regularizer__\n",
    "  $$ H = - {1 \\over T} \\sum_t \\sum_a {\\pi(a|s_t) \\cdot \\log \\pi (a|s_t)}$$\n",
    "  * If we __maximize__ entropy we discourage agent from predicting zero probability to actions\n",
    "  prematurely (a.k.a. exploration)\n",
    "  \n",
    "  \n",
    "So we optimize a linear combination of $L_{td}$ $- \\hat J$, $-H$\n",
    "  \n",
    "```\n",
    "\n",
    "```\n",
    "\n",
    "```\n",
    "\n",
    "```\n",
    "\n",
    "```\n",
    "\n",
    "```\n",
    "\n",
    "\n",
    "__One more thing:__ since we train on T-step rollouts, we can use N-step formula for advantage for free:\n",
    "  * At the last step, $A(s_t,a_t) = r(s_t, a_t) + \\gamma \\cdot V(s_{t+1}) - V(s) $\n",
    "  * One step earlier, $A(s_t,a_t) = r(s_t, a_t) + \\gamma \\cdot r(s_{t+1}, a_{t+1}) + \\gamma ^ 2 \\cdot V(s_{t+2}) - V(s) $\n",
    "  * Et cetera, et cetera. This way agent starts training much faster since it's estimate of A(s,a) depends less on his (imperfect) value function and more on actual rewards. There's also a [nice generalization](https://arxiv.org/abs/1506.02438) of this.\n",
    "\n",
    "\n",
    "__Note:__ it's also a good idea to scale rollout_len up to learn longer sequences. You may wish set it to >=20 or to start at 10 and then scale up as time passes."
   ]
  },
  {
   "cell_type": "code",
   "execution_count": 16,
   "metadata": {},
   "outputs": [],
   "source": [
    "def to_one_hot(y, n_dims=None):\n",
    "    \"\"\" Take an integer tensor and convert it to 1-hot matrix. \"\"\"\n",
    "    y_tensor = y.to(dtype=torch.int64).view(-1, 1)\n",
    "    n_dims = n_dims if n_dims is not None else int(torch.max(y_tensor)) + 1\n",
    "    y_one_hot = torch.zeros(y_tensor.size()[0], n_dims).scatter_(1, y_tensor, 1)\n",
    "    return y_one_hot"
   ]
  },
  {
   "cell_type": "code",
   "execution_count": 17,
   "metadata": {},
   "outputs": [],
   "source": [
    "opt = torch.optim.Adam(agent.parameters(), lr=1e-5)\n",
    "\n",
    "\n",
    "def train_on_rollout(states, actions, rewards, is_not_done, prev_memory_states, gamma=0.99, device=device, max_grad_norm=90):\n",
    "    \"\"\"\n",
    "    Takes a sequence of states, actions and rewards produced by generate_session.\n",
    "    Updates agent's weights by following the policy gradient above.\n",
    "    Please use Adam optimizer with default parameters.\n",
    "    \"\"\"\n",
    "\n",
    "    # shape: [batch_size, time, c, h, w]\n",
    "    states = torch.tensor(np.asarray(states), dtype=torch.float32)\n",
    "    actions = torch.tensor(np.array(actions), dtype=torch.int64)  # shape: [batch_size, time]\n",
    "    rewards = torch.tensor(np.array(rewards), dtype=torch.float32)  # shape: [batch_size, time]\n",
    "    is_not_done = torch.tensor(np.array(is_not_done), dtype=torch.float32)  # shape: [batch_size, time]\n",
    "    rollout_length = rewards.shape[1] - 1\n",
    "\n",
    "    # predict logits, probas and log-probas using an agent.\n",
    "    memory = [m.detach() for m in prev_memory_states]\n",
    "\n",
    "    logits = []  # append logit sequence here\n",
    "    state_values = []  # append state values here\n",
    "    for t in range(rewards.shape[1]):\n",
    "        obs_t = states[:, t]\n",
    "\n",
    "        # use agent to comute logits_t and state values_t.\n",
    "        # append them to logits and state_values array\n",
    "\n",
    "        memory, (logits_t, values_t) = agent(memory, obs_t)#<YOUR CODE >\n",
    "\n",
    "        logits.append(logits_t)\n",
    "        state_values.append(values_t)\n",
    "\n",
    "    logits = torch.stack(logits, dim=1)\n",
    "    state_values = torch.stack(state_values, dim=1)\n",
    "    probas = F.softmax(logits, dim=2)\n",
    "    logprobas = F.log_softmax(logits, dim=2)\n",
    "\n",
    "    # select log-probabilities for chosen actions, log pi(a_i|s_i)\n",
    "    actions_one_hot = to_one_hot(actions, n_actions).view(\n",
    "        actions.shape[0], actions.shape[1], n_actions)\n",
    "    logprobas_for_actions = torch.sum(logprobas * actions_one_hot, dim=-1)\n",
    "\n",
    "    # Now let's compute two loss components:\n",
    "    # 1) Policy gradient objective.\n",
    "    # Notes: Please don't forget to call .detach() on advantage term. Also please use mean, not sum.\n",
    "    # it's okay to use loops if you want\n",
    "    J_hat = 0  # policy objective as in the formula for J_hat\n",
    "\n",
    "    # 2) Temporal difference MSE for state values\n",
    "    # Notes: Please don't forget to call on V(s') term. Also please use mean, not sum.\n",
    "    # it's okay to use loops if you want\n",
    "    value_loss = 0\n",
    "\n",
    "    cumulative_returns = state_values[:, -1].detach()\n",
    "\n",
    "    for t in reversed(range(rollout_length)):\n",
    "        r_t = rewards[:, t].unsqueeze(1)                               # current rewards\n",
    "        # current state values\n",
    "        V_t = state_values[:, t]\n",
    "        V_next = state_values[:, t + 1].detach()           # next state values\n",
    "        # log-probability of a_t in s_t\n",
    "        logpi_a_s_t = logprobas_for_actions[:, t].unsqueeze(1)\n",
    "\n",
    "        # update G_t = r_t + gamma * G_{t+1} as we did in week6 reinforce\n",
    "        cumulative_returns = G_t = r_t + gamma * cumulative_returns\n",
    "\n",
    "        # Compute temporal difference error (MSE for V(s))\n",
    "#         print ('Value loss :')\n",
    "#         print ('r_t :', r_t.shape)\n",
    "#         print ('V_next :', V_next.shape)\n",
    "#         print ('V_t :', V_t.shape)\n",
    "        \n",
    "        value_loss += (r_t + gamma * V_next - V_t) ** 2#<YOUR CODE >\n",
    "#         print ('Value loss :', value_loss.shape)\n",
    "        \n",
    "        # compute advantage A(s_t, a_t) using cumulative returns and V(s_t) as baseline\n",
    "        advantage = G_t - V_t #<YOUR CODE >\n",
    "        advantage = advantage.detach()\n",
    "\n",
    "        # compute policy pseudo-loss aka -J_hat.\n",
    "#         print ('logpi_a_s_t', logpi_a_s_t.shape)\n",
    "#         print ('advantage', advantage.shape)\n",
    "        J_hat += logpi_a_s_t * advantage  #<YOUR CODE >\n",
    "#         print ('J_hat :', J_hat.shape)\n",
    "        \n",
    "    # regularize with entropy\n",
    "#     print ('logprobas', (logprobas * probas).shape)\n",
    "    entropy_reg = - (logprobas * probas).sum(dim=2).mean(dim=1).unsqueeze(1)#<compute entropy regularizer >\n",
    "\n",
    "    # add-up three loss components and average over time\n",
    "#     print ('J_hat :', J_hat.shape)\n",
    "#     print ('value_loss :', value_loss.shape)\n",
    "#     print ('entropy_reg :', entropy_reg.shape)\n",
    "    \n",
    "    loss = -J_hat / rollout_length +\\\n",
    "        value_loss / rollout_length +\\\n",
    "           -0.01 * entropy_reg\n",
    "    loss = loss.mean()\n",
    "\n",
    "    # Gradient descent step\n",
    "    loss.backward()\n",
    "    # This small trick allows to clip gradients and to monitor them over the time\n",
    "    grad_norm = nn.utils.clip_grad_norm_(agent.parameters(), max_grad_norm)\n",
    "    #< your code >\n",
    "    opt.step()\n",
    "    opt.zero_grad()\n",
    "    \n",
    "    \n",
    "    return loss.data.numpy(), grad_norm, entropy_reg.mean().data.numpy()"
   ]
  },
  {
   "cell_type": "code",
   "execution_count": 18,
   "metadata": {},
   "outputs": [
    {
     "name": "stderr",
     "output_type": "stream",
     "text": [
      "/home/romakail/anaconda3/lib/python3.7/site-packages/ipykernel_launcher.py:48: UserWarning: Implicit dimension choice for softmax has been deprecated. Change the call to include dim=X as an argument.\n"
     ]
    },
    {
     "data": {
      "text/plain": [
       "(array(-0.03107061, dtype=float32),\n",
       " 0.0009406476551422127,\n",
       " array(2.6379836, dtype=float32))"
      ]
     },
     "execution_count": 18,
     "metadata": {},
     "output_type": "execute_result"
    }
   ],
   "source": [
    "# let's test it\n",
    "memory = list(pool.prev_memory_states)\n",
    "rollout_obs, rollout_actions, rollout_rewards, rollout_mask = pool.interact(10)\n",
    "\n",
    "train_on_rollout(rollout_obs, rollout_actions,\n",
    "                 rollout_rewards, rollout_mask, memory)"
   ]
  },
  {
   "cell_type": "markdown",
   "metadata": {},
   "source": [
    "# Train \n",
    "\n",
    "just run train step and see if agent learns any better"
   ]
  },
  {
   "cell_type": "code",
   "execution_count": 19,
   "metadata": {},
   "outputs": [],
   "source": [
    "from IPython.display import clear_output\n",
    "from tqdm import trange\n",
    "from pandas import DataFrame\n",
    "moving_average = lambda x, **kw: DataFrame(\n",
    "    {'x': np.asarray(x)}).x.ewm(**kw).mean().values\n",
    "\n",
    "rewards_history = []\n",
    "grad_norm_history = []\n",
    "entropy_history = []\n",
    "loss_history = []"
   ]
  },
  {
   "cell_type": "code",
   "execution_count": 22,
   "metadata": {},
   "outputs": [
    {
     "data": {
      "image/png": "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\n",
      "text/plain": [
       "<Figure size 1152x648 with 4 Axes>"
      ]
     },
     "metadata": {
      "needs_background": "light"
     },
     "output_type": "display_data"
    },
    {
     "name": "stdout",
     "output_type": "stream",
     "text": [
      "Your agent has just passed the minimum homework threshold\n"
     ]
    }
   ],
   "source": [
    "for i in trange(15000, 40000):\n",
    "\n",
    "    memory = list(pool.prev_memory_states)\n",
    "    rollout_obs, rollout_actions, rollout_rewards, rollout_mask = pool.interact(\n",
    "        20)\n",
    "    loss, grad_norm, entropy = train_on_rollout(rollout_obs, rollout_actions,\n",
    "                     rollout_rewards, rollout_mask, memory)\n",
    "    grad_norm_history.append(grad_norm)\n",
    "    entropy_history.append(entropy)\n",
    "    loss_history.append(loss)\n",
    "    if i % 100 == 0:\n",
    "        rewards_history.append(np.mean(evaluate(agent, env, n_games=1)))\n",
    "        clear_output(True)\n",
    "        \n",
    "        plt.figure(figsize=[16, 9])\n",
    "        plt.subplot(2, 2, 1)\n",
    "        plt.title(\"Mean reward\")\n",
    "        plt.plot(rewards_history, label='rewards')\n",
    "        plt.plot(moving_average(np.array(rewards_history),\n",
    "                                span=10), label='rewards ewma@10')\n",
    "        plt.legend()\n",
    "\n",
    "        plt.subplot(2, 2, 2)\n",
    "        plt.title(\"Grad norm history (smoothened)\")\n",
    "        plt.plot(moving_average(np.array(grad_norm_history), span=100), label='grad norm ewma@100')\n",
    "        plt.grid()\n",
    "        \n",
    "        plt.subplot(2, 2, 3)\n",
    "        plt.title(\"entropy (smoothened)\")\n",
    "        plt.plot(moving_average(np.array(entropy_history), span=100), label='entropy ewma@100')\n",
    "        plt.grid()\n",
    "        \n",
    "        plt.subplot(2, 2, 4)\n",
    "        plt.title(\"loss (smoothened)\")\n",
    "        plt.plot(np.array(loss_history), label='loss raw')\n",
    "        plt.plot(moving_average(np.array(loss_history), span=10), label='loss ewma@10')\n",
    "        plt.grid()\n",
    "\n",
    "\n",
    "        plt.show()\n",
    "        \n",
    "        if rewards_history[-1] >= 10000:\n",
    "            print(\"Your agent has just passed the minimum homework threshold\")\n",
    "            break\n"
   ]
  },
  {
   "cell_type": "markdown",
   "metadata": {},
   "source": [
    "Relax and grab some refreshments while your agent is locked in an infinite loop of violence and death.\n",
    "\n",
    "__How to interpret plots:__\n",
    "\n",
    "The session reward is the easy thing: it should in general go up over time, but it's okay if it fluctuates ~~like crazy~~. It's also OK if it reward doesn't increase substantially before some 10k initial steps. However, if reward reaches zero and doesn't seem to get up over 2-3 evaluations, there's something wrong happening.\n",
    "\n",
    "\n",
    "Since we use a policy-based method, we also keep track of __policy entropy__ - the same one you used as a regularizer. The only important thing about it is that your entropy shouldn't drop too low (`< 0.1`) before your agent gets the yellow belt. Or at least it can drop there, but _it shouldn't stay there for long_.\n",
    "\n",
    "If it does, the culprit is likely:\n",
    "* Some bug in entropy computation. Remember that it is $ - \\sum p(a_i) \\cdot log p(a_i) $\n",
    "* Your agent architecture converges too fast. Increase entropy coefficient in actor loss. \n",
    "* Gradient explosion - just [clip gradients](https://stackoverflow.com/a/43486487) and maybe use a smaller network\n",
    "* Us. Or TF developers. Or aliens. Or lizardfolk. Contact us on forums before it's too late!\n",
    "\n",
    "If you're debugging, just run `logits, values = agent.step(batch_states)` and manually look into logits and values. This will reveal the problem 9 times out of 10: you'll likely see some NaNs or insanely large numbers or zeros. Try to catch the moment when this happens for the first time and investigate from there."
   ]
  },
  {
   "cell_type": "markdown",
   "metadata": {},
   "source": [
    "### \"Final\" evaluation"
   ]
  },
  {
   "cell_type": "code",
   "execution_count": 23,
   "metadata": {},
   "outputs": [
    {
     "ename": "DependencyNotInstalled",
     "evalue": "Found neither the ffmpeg nor avconv executables. On OS X, you can install ffmpeg via `brew install ffmpeg`. On most Ubuntu variants, `sudo apt-get install ffmpeg` should do it. On Ubuntu 14.04, however, you'll need to install avconv with `sudo apt-get install libav-tools`.",
     "output_type": "error",
     "traceback": [
      "\u001b[0;31m---------------------------------------------------------------------------\u001b[0m",
      "\u001b[0;31mDependencyNotInstalled\u001b[0m                    Traceback (most recent call last)",
      "\u001b[0;32m<ipython-input-23-076927e9fd73>\u001b[0m in \u001b[0;36m<module>\u001b[0;34m\u001b[0m\n\u001b[1;32m      1\u001b[0m \u001b[0menv_monitor\u001b[0m \u001b[0;34m=\u001b[0m \u001b[0mgym\u001b[0m\u001b[0;34m.\u001b[0m\u001b[0mwrappers\u001b[0m\u001b[0;34m.\u001b[0m\u001b[0mMonitor\u001b[0m\u001b[0;34m(\u001b[0m\u001b[0menv\u001b[0m\u001b[0;34m,\u001b[0m \u001b[0mdirectory\u001b[0m\u001b[0;34m=\u001b[0m\u001b[0;34m\"kungfu_videos\"\u001b[0m\u001b[0;34m,\u001b[0m \u001b[0mforce\u001b[0m\u001b[0;34m=\u001b[0m\u001b[0;32mTrue\u001b[0m\u001b[0;34m)\u001b[0m\u001b[0;34m\u001b[0m\u001b[0;34m\u001b[0m\u001b[0m\n\u001b[0;32m----> 2\u001b[0;31m \u001b[0mfinal_rewards\u001b[0m \u001b[0;34m=\u001b[0m \u001b[0mevaluate\u001b[0m\u001b[0;34m(\u001b[0m\u001b[0magent\u001b[0m\u001b[0;34m,\u001b[0m \u001b[0menv_monitor\u001b[0m\u001b[0;34m,\u001b[0m \u001b[0mn_games\u001b[0m\u001b[0;34m=\u001b[0m\u001b[0;36m20\u001b[0m\u001b[0;34m,\u001b[0m\u001b[0;34m)\u001b[0m\u001b[0;34m\u001b[0m\u001b[0;34m\u001b[0m\u001b[0m\n\u001b[0m\u001b[1;32m      3\u001b[0m \u001b[0menv_monitor\u001b[0m\u001b[0;34m.\u001b[0m\u001b[0mclose\u001b[0m\u001b[0;34m(\u001b[0m\u001b[0;34m)\u001b[0m\u001b[0;34m\u001b[0m\u001b[0;34m\u001b[0m\u001b[0m\n\u001b[1;32m      4\u001b[0m \u001b[0mprint\u001b[0m\u001b[0;34m(\u001b[0m\u001b[0;34m\"Final mean reward\"\u001b[0m\u001b[0;34m,\u001b[0m \u001b[0mnp\u001b[0m\u001b[0;34m.\u001b[0m\u001b[0mmean\u001b[0m\u001b[0;34m(\u001b[0m\u001b[0mfinal_rewards\u001b[0m\u001b[0;34m)\u001b[0m\u001b[0;34m)\u001b[0m\u001b[0;34m\u001b[0m\u001b[0;34m\u001b[0m\u001b[0m\n",
      "\u001b[0;32m<ipython-input-10-dbd96891fb54>\u001b[0m in \u001b[0;36mevaluate\u001b[0;34m(agent, env, n_games)\u001b[0m\n\u001b[1;32m      5\u001b[0m     \u001b[0;32mfor\u001b[0m \u001b[0m_\u001b[0m \u001b[0;32min\u001b[0m \u001b[0mrange\u001b[0m\u001b[0;34m(\u001b[0m\u001b[0mn_games\u001b[0m\u001b[0;34m)\u001b[0m\u001b[0;34m:\u001b[0m\u001b[0;34m\u001b[0m\u001b[0;34m\u001b[0m\u001b[0m\n\u001b[1;32m      6\u001b[0m         \u001b[0;31m# initial observation and memory\u001b[0m\u001b[0;34m\u001b[0m\u001b[0;34m\u001b[0m\u001b[0;34m\u001b[0m\u001b[0m\n\u001b[0;32m----> 7\u001b[0;31m         \u001b[0mobservation\u001b[0m \u001b[0;34m=\u001b[0m \u001b[0menv\u001b[0m\u001b[0;34m.\u001b[0m\u001b[0mreset\u001b[0m\u001b[0;34m(\u001b[0m\u001b[0;34m)\u001b[0m\u001b[0;34m\u001b[0m\u001b[0;34m\u001b[0m\u001b[0m\n\u001b[0m\u001b[1;32m      8\u001b[0m         \u001b[0mprev_memories\u001b[0m \u001b[0;34m=\u001b[0m \u001b[0magent\u001b[0m\u001b[0;34m.\u001b[0m\u001b[0mget_initial_state\u001b[0m\u001b[0;34m(\u001b[0m\u001b[0;36m1\u001b[0m\u001b[0;34m)\u001b[0m\u001b[0;34m\u001b[0m\u001b[0;34m\u001b[0m\u001b[0m\n\u001b[1;32m      9\u001b[0m \u001b[0;34m\u001b[0m\u001b[0m\n",
      "\u001b[0;32m~/anaconda3/lib/python3.7/site-packages/gym/wrappers/monitor.py\u001b[0m in \u001b[0;36mreset\u001b[0;34m(self, **kwargs)\u001b[0m\n\u001b[1;32m     37\u001b[0m         \u001b[0mself\u001b[0m\u001b[0;34m.\u001b[0m\u001b[0m_before_reset\u001b[0m\u001b[0;34m(\u001b[0m\u001b[0;34m)\u001b[0m\u001b[0;34m\u001b[0m\u001b[0;34m\u001b[0m\u001b[0m\n\u001b[1;32m     38\u001b[0m         \u001b[0mobservation\u001b[0m \u001b[0;34m=\u001b[0m \u001b[0mself\u001b[0m\u001b[0;34m.\u001b[0m\u001b[0menv\u001b[0m\u001b[0;34m.\u001b[0m\u001b[0mreset\u001b[0m\u001b[0;34m(\u001b[0m\u001b[0;34m**\u001b[0m\u001b[0mkwargs\u001b[0m\u001b[0;34m)\u001b[0m\u001b[0;34m\u001b[0m\u001b[0;34m\u001b[0m\u001b[0m\n\u001b[0;32m---> 39\u001b[0;31m         \u001b[0mself\u001b[0m\u001b[0;34m.\u001b[0m\u001b[0m_after_reset\u001b[0m\u001b[0;34m(\u001b[0m\u001b[0mobservation\u001b[0m\u001b[0;34m)\u001b[0m\u001b[0;34m\u001b[0m\u001b[0;34m\u001b[0m\u001b[0m\n\u001b[0m\u001b[1;32m     40\u001b[0m \u001b[0;34m\u001b[0m\u001b[0m\n\u001b[1;32m     41\u001b[0m         \u001b[0;32mreturn\u001b[0m \u001b[0mobservation\u001b[0m\u001b[0;34m\u001b[0m\u001b[0;34m\u001b[0m\u001b[0m\n",
      "\u001b[0;32m~/anaconda3/lib/python3.7/site-packages/gym/wrappers/monitor.py\u001b[0m in \u001b[0;36m_after_reset\u001b[0;34m(self, observation)\u001b[0m\n\u001b[1;32m    186\u001b[0m         \u001b[0mself\u001b[0m\u001b[0;34m.\u001b[0m\u001b[0mstats_recorder\u001b[0m\u001b[0;34m.\u001b[0m\u001b[0mafter_reset\u001b[0m\u001b[0;34m(\u001b[0m\u001b[0mobservation\u001b[0m\u001b[0;34m)\u001b[0m\u001b[0;34m\u001b[0m\u001b[0;34m\u001b[0m\u001b[0m\n\u001b[1;32m    187\u001b[0m \u001b[0;34m\u001b[0m\u001b[0m\n\u001b[0;32m--> 188\u001b[0;31m         \u001b[0mself\u001b[0m\u001b[0;34m.\u001b[0m\u001b[0mreset_video_recorder\u001b[0m\u001b[0;34m(\u001b[0m\u001b[0;34m)\u001b[0m\u001b[0;34m\u001b[0m\u001b[0;34m\u001b[0m\u001b[0m\n\u001b[0m\u001b[1;32m    189\u001b[0m \u001b[0;34m\u001b[0m\u001b[0m\n\u001b[1;32m    190\u001b[0m         \u001b[0;31m# Bump *after* all reset activity has finished\u001b[0m\u001b[0;34m\u001b[0m\u001b[0;34m\u001b[0m\u001b[0;34m\u001b[0m\u001b[0m\n",
      "\u001b[0;32m~/anaconda3/lib/python3.7/site-packages/gym/wrappers/monitor.py\u001b[0m in \u001b[0;36mreset_video_recorder\u001b[0;34m(self)\u001b[0m\n\u001b[1;32m    207\u001b[0m             \u001b[0menabled\u001b[0m\u001b[0;34m=\u001b[0m\u001b[0mself\u001b[0m\u001b[0;34m.\u001b[0m\u001b[0m_video_enabled\u001b[0m\u001b[0;34m(\u001b[0m\u001b[0;34m)\u001b[0m\u001b[0;34m,\u001b[0m\u001b[0;34m\u001b[0m\u001b[0;34m\u001b[0m\u001b[0m\n\u001b[1;32m    208\u001b[0m         )\n\u001b[0;32m--> 209\u001b[0;31m         \u001b[0mself\u001b[0m\u001b[0;34m.\u001b[0m\u001b[0mvideo_recorder\u001b[0m\u001b[0;34m.\u001b[0m\u001b[0mcapture_frame\u001b[0m\u001b[0;34m(\u001b[0m\u001b[0;34m)\u001b[0m\u001b[0;34m\u001b[0m\u001b[0;34m\u001b[0m\u001b[0m\n\u001b[0m\u001b[1;32m    210\u001b[0m \u001b[0;34m\u001b[0m\u001b[0m\n\u001b[1;32m    211\u001b[0m     \u001b[0;32mdef\u001b[0m \u001b[0m_close_video_recorder\u001b[0m\u001b[0;34m(\u001b[0m\u001b[0mself\u001b[0m\u001b[0;34m)\u001b[0m\u001b[0;34m:\u001b[0m\u001b[0;34m\u001b[0m\u001b[0;34m\u001b[0m\u001b[0m\n",
      "\u001b[0;32m~/anaconda3/lib/python3.7/site-packages/gym/wrappers/monitoring/video_recorder.py\u001b[0m in \u001b[0;36mcapture_frame\u001b[0;34m(self)\u001b[0m\n\u001b[1;32m    114\u001b[0m                 \u001b[0mself\u001b[0m\u001b[0;34m.\u001b[0m\u001b[0m_encode_ansi_frame\u001b[0m\u001b[0;34m(\u001b[0m\u001b[0mframe\u001b[0m\u001b[0;34m)\u001b[0m\u001b[0;34m\u001b[0m\u001b[0;34m\u001b[0m\u001b[0m\n\u001b[1;32m    115\u001b[0m             \u001b[0;32melse\u001b[0m\u001b[0;34m:\u001b[0m\u001b[0;34m\u001b[0m\u001b[0;34m\u001b[0m\u001b[0m\n\u001b[0;32m--> 116\u001b[0;31m                 \u001b[0mself\u001b[0m\u001b[0;34m.\u001b[0m\u001b[0m_encode_image_frame\u001b[0m\u001b[0;34m(\u001b[0m\u001b[0mframe\u001b[0m\u001b[0;34m)\u001b[0m\u001b[0;34m\u001b[0m\u001b[0;34m\u001b[0m\u001b[0m\n\u001b[0m\u001b[1;32m    117\u001b[0m \u001b[0;34m\u001b[0m\u001b[0m\n\u001b[1;32m    118\u001b[0m     \u001b[0;32mdef\u001b[0m \u001b[0mclose\u001b[0m\u001b[0;34m(\u001b[0m\u001b[0mself\u001b[0m\u001b[0;34m)\u001b[0m\u001b[0;34m:\u001b[0m\u001b[0;34m\u001b[0m\u001b[0;34m\u001b[0m\u001b[0m\n",
      "\u001b[0;32m~/anaconda3/lib/python3.7/site-packages/gym/wrappers/monitoring/video_recorder.py\u001b[0m in \u001b[0;36m_encode_image_frame\u001b[0;34m(self, frame)\u001b[0m\n\u001b[1;32m    160\u001b[0m     \u001b[0;32mdef\u001b[0m \u001b[0m_encode_image_frame\u001b[0m\u001b[0;34m(\u001b[0m\u001b[0mself\u001b[0m\u001b[0;34m,\u001b[0m \u001b[0mframe\u001b[0m\u001b[0;34m)\u001b[0m\u001b[0;34m:\u001b[0m\u001b[0;34m\u001b[0m\u001b[0;34m\u001b[0m\u001b[0m\n\u001b[1;32m    161\u001b[0m         \u001b[0;32mif\u001b[0m \u001b[0;32mnot\u001b[0m \u001b[0mself\u001b[0m\u001b[0;34m.\u001b[0m\u001b[0mencoder\u001b[0m\u001b[0;34m:\u001b[0m\u001b[0;34m\u001b[0m\u001b[0;34m\u001b[0m\u001b[0m\n\u001b[0;32m--> 162\u001b[0;31m             \u001b[0mself\u001b[0m\u001b[0;34m.\u001b[0m\u001b[0mencoder\u001b[0m \u001b[0;34m=\u001b[0m \u001b[0mImageEncoder\u001b[0m\u001b[0;34m(\u001b[0m\u001b[0mself\u001b[0m\u001b[0;34m.\u001b[0m\u001b[0mpath\u001b[0m\u001b[0;34m,\u001b[0m \u001b[0mframe\u001b[0m\u001b[0;34m.\u001b[0m\u001b[0mshape\u001b[0m\u001b[0;34m,\u001b[0m \u001b[0mself\u001b[0m\u001b[0;34m.\u001b[0m\u001b[0mframes_per_sec\u001b[0m\u001b[0;34m)\u001b[0m\u001b[0;34m\u001b[0m\u001b[0;34m\u001b[0m\u001b[0m\n\u001b[0m\u001b[1;32m    163\u001b[0m             \u001b[0mself\u001b[0m\u001b[0;34m.\u001b[0m\u001b[0mmetadata\u001b[0m\u001b[0;34m[\u001b[0m\u001b[0;34m'encoder_version'\u001b[0m\u001b[0;34m]\u001b[0m \u001b[0;34m=\u001b[0m \u001b[0mself\u001b[0m\u001b[0;34m.\u001b[0m\u001b[0mencoder\u001b[0m\u001b[0;34m.\u001b[0m\u001b[0mversion_info\u001b[0m\u001b[0;34m\u001b[0m\u001b[0;34m\u001b[0m\u001b[0m\n\u001b[1;32m    164\u001b[0m \u001b[0;34m\u001b[0m\u001b[0m\n",
      "\u001b[0;32m~/anaconda3/lib/python3.7/site-packages/gym/wrappers/monitoring/video_recorder.py\u001b[0m in \u001b[0;36m__init__\u001b[0;34m(self, output_path, frame_shape, frames_per_sec)\u001b[0m\n\u001b[1;32m    253\u001b[0m             \u001b[0mself\u001b[0m\u001b[0;34m.\u001b[0m\u001b[0mbackend\u001b[0m \u001b[0;34m=\u001b[0m \u001b[0;34m'ffmpeg'\u001b[0m\u001b[0;34m\u001b[0m\u001b[0;34m\u001b[0m\u001b[0m\n\u001b[1;32m    254\u001b[0m         \u001b[0;32melse\u001b[0m\u001b[0;34m:\u001b[0m\u001b[0;34m\u001b[0m\u001b[0;34m\u001b[0m\u001b[0m\n\u001b[0;32m--> 255\u001b[0;31m             \u001b[0;32mraise\u001b[0m \u001b[0merror\u001b[0m\u001b[0;34m.\u001b[0m\u001b[0mDependencyNotInstalled\u001b[0m\u001b[0;34m(\u001b[0m\u001b[0;34m\"\"\"Found neither the ffmpeg nor avconv executables. On OS X, you can install ffmpeg via `brew install ffmpeg`. On most Ubuntu variants, `sudo apt-get install ffmpeg` should do it. On Ubuntu 14.04, however, you'll need to install avconv with `sudo apt-get install libav-tools`.\"\"\"\u001b[0m\u001b[0;34m)\u001b[0m\u001b[0;34m\u001b[0m\u001b[0;34m\u001b[0m\u001b[0m\n\u001b[0m\u001b[1;32m    256\u001b[0m \u001b[0;34m\u001b[0m\u001b[0m\n\u001b[1;32m    257\u001b[0m         \u001b[0mself\u001b[0m\u001b[0;34m.\u001b[0m\u001b[0mstart\u001b[0m\u001b[0;34m(\u001b[0m\u001b[0;34m)\u001b[0m\u001b[0;34m\u001b[0m\u001b[0;34m\u001b[0m\u001b[0m\n",
      "\u001b[0;31mDependencyNotInstalled\u001b[0m: Found neither the ffmpeg nor avconv executables. On OS X, you can install ffmpeg via `brew install ffmpeg`. On most Ubuntu variants, `sudo apt-get install ffmpeg` should do it. On Ubuntu 14.04, however, you'll need to install avconv with `sudo apt-get install libav-tools`."
     ]
    }
   ],
   "source": [
    "env_monitor = gym.wrappers.Monitor(env, directory=\"kungfu_videos\", force=True)\n",
    "final_rewards = evaluate(agent, env_monitor, n_games=20,)\n",
    "env_monitor.close()\n",
    "print(\"Final mean reward\", np.mean(final_rewards))"
   ]
  },
  {
   "cell_type": "code",
   "execution_count": null,
   "metadata": {},
   "outputs": [],
   "source": [
    "video_names = list(filter(lambda s: s.endswith(\n",
    "    \".mp4\"), os.listdir(\"./kungfu_videos/\")))\n",
    "HTML(\"\"\"\n",
    "<video width=\"640\" height=\"480\" controls>\n",
    "  <source src=\"{}\" type=\"video/mp4\">\n",
    "</video>\n",
    "\"\"\".format(\"./kungfu_videos/\"+video_names[-1]))  # this may or may not be _last_ video. Try other indices"
   ]
  },
  {
   "cell_type": "code",
   "execution_count": null,
   "metadata": {},
   "outputs": [],
   "source": []
  }
 ],
 "metadata": {
  "kernelspec": {
   "display_name": "Python 3",
   "language": "python",
   "name": "python3"
  },
  "language_info": {
   "codemirror_mode": {
    "name": "ipython",
    "version": 3
   },
   "file_extension": ".py",
   "mimetype": "text/x-python",
   "name": "python",
   "nbconvert_exporter": "python",
   "pygments_lexer": "ipython3",
   "version": "3.7.3"
  }
 },
 "nbformat": 4,
 "nbformat_minor": 1
}
