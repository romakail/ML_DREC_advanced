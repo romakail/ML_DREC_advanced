{
 "cells": [
  {
   "cell_type": "markdown",
   "metadata": {
    "colab_type": "text",
    "id": "eulvfJWl7ueY"
   },
   "source": [
    "# Lab 1"
   ]
  },
  {
   "cell_type": "markdown",
   "metadata": {},
   "source": [
    "## Part 2: Neural Machine Translation in the wild\n",
    "In the second part of the homework you are supposed to get the best translation you can for the EN-RU translation task.\n",
    "\n",
    "Basic approach using RNNs as encoder and decoder is implemented for you. \n",
    "\n",
    "Your ultimate task is to use the techniques we've covered, e.g.\n",
    "* [Byte Pair Encoding](https://github.com/rsennrich/subword-nmt)\n",
    "\n",
    "* CNN encoder (with or without positional encoding)\n",
    "\n",
    "* attention/self-attention mechanism\n",
    "\n",
    "* pretraining the language model\n",
    "\n",
    "* or just fine-tunning BERT)\n",
    "\n",
    "to improve the translation quality. \n",
    "\n",
    "__Please use at least three different approaches/models and compare them (translation quality/complexity/training and evaluation time).__\n",
    "Write down some summary on your experiments and illustrate it with convergence plots/metrics and your thoughts. Just like you would approach a real problem."
   ]
  },
  {
   "cell_type": "code",
   "execution_count": 1,
   "metadata": {},
   "outputs": [],
   "source": [
    "# ! pip  instalschtext\n",
    "\n",
    "# Thanks to YSDA NLP course team for the data\n",
    "# (who thanks tilda and deephack teams for the data in their turn)"
   ]
  },
  {
   "cell_type": "code",
   "execution_count": 2,
   "metadata": {},
   "outputs": [],
   "source": [
    "import torch\n",
    "import torch.nn as nn\n",
    "import torch.optim as optim\n",
    "\n",
    "import torchtext\n",
    "from torchtext.datasets import TranslationDataset, Multi30k\n",
    "from torchtext.data import Field, BucketIterator\n",
    "\n",
    "import spacy\n",
    "\n",
    "import random\n",
    "import math\n",
    "import time\n",
    "\n",
    "import matplotlib\n",
    "matplotlib.rcParams.update({'figure.figsize': (16, 12), 'font.size': 14})\n",
    "import matplotlib.pyplot as plt\n",
    "%matplotlib inline\n",
    "from IPython.display import clear_output\n",
    "\n",
    "from nltk.tokenize import WordPunctTokenizer\n",
    "from subword_nmt.learn_bpe import learn_bpe\n",
    "from subword_nmt.apply_bpe import BPE\n"
   ]
  },
  {
   "cell_type": "markdown",
   "metadata": {},
   "source": [
    "### Main part\n",
    "__Here comes the preprocessing. Do not hesitate to use BPE or more complex preprocessing ;)__"
   ]
  },
  {
   "cell_type": "code",
   "execution_count": 3,
   "metadata": {},
   "outputs": [],
   "source": [
    "import pandas as pd\n"
   ]
  },
  {
   "cell_type": "code",
   "execution_count": 4,
   "metadata": {},
   "outputs": [],
   "source": [
    "data_pd = pd.read_csv('data.txt', sep='\\t', header=None)"
   ]
  },
  {
   "cell_type": "code",
   "execution_count": 5,
   "metadata": {},
   "outputs": [
    {
     "data": {
      "text/html": [
       "<div>\n",
       "<style scoped>\n",
       "    .dataframe tbody tr th:only-of-type {\n",
       "        vertical-align: middle;\n",
       "    }\n",
       "\n",
       "    .dataframe tbody tr th {\n",
       "        vertical-align: top;\n",
       "    }\n",
       "\n",
       "    .dataframe thead th {\n",
       "        text-align: right;\n",
       "    }\n",
       "</style>\n",
       "<table border=\"1\" class=\"dataframe\">\n",
       "  <thead>\n",
       "    <tr style=\"text-align: right;\">\n",
       "      <th></th>\n",
       "      <th>0</th>\n",
       "      <th>1</th>\n",
       "    </tr>\n",
       "  </thead>\n",
       "  <tbody>\n",
       "    <tr>\n",
       "      <th>0</th>\n",
       "      <td>Cordelia Hotel is situated in Tbilisi, a 3-min...</td>\n",
       "      <td>Отель Cordelia расположен в Тбилиси, в 3 минут...</td>\n",
       "    </tr>\n",
       "    <tr>\n",
       "      <th>1</th>\n",
       "      <td>At Tupirmarka Lodge you will find a 24-hour fr...</td>\n",
       "      <td>В числе удобств лоджа Tupirmarka круглосуточна...</td>\n",
       "    </tr>\n",
       "    <tr>\n",
       "      <th>2</th>\n",
       "      <td>Featuring free WiFi in all areas, Naigao Xiaow...</td>\n",
       "      <td>Апартаменты Naigao Xiaowo расположены в городе...</td>\n",
       "    </tr>\n",
       "    <tr>\n",
       "      <th>3</th>\n",
       "      <td>Each has a TV and a private bathroom with shower.</td>\n",
       "      <td>В вашем распоряжении также телевизор и собстве...</td>\n",
       "    </tr>\n",
       "    <tr>\n",
       "      <th>4</th>\n",
       "      <td>Your room comes with air conditioning and sate...</td>\n",
       "      <td>Номер оснащен кондиционером и спутниковым теле...</td>\n",
       "    </tr>\n",
       "    <tr>\n",
       "      <th>5</th>\n",
       "      <td>They are styled in cream-coloured hues and som...</td>\n",
       "      <td>Они оформлены в кремовых тонах, в некоторых из...</td>\n",
       "    </tr>\n",
       "    <tr>\n",
       "      <th>6</th>\n",
       "      <td>The reception team can help guests plan sights...</td>\n",
       "      <td>Сотрудники стойки регистрации с радостью помог...</td>\n",
       "    </tr>\n",
       "    <tr>\n",
       "      <th>7</th>\n",
       "      <td>Some units include a seating area for your con...</td>\n",
       "      <td>В числе удобств некоторых номеров — гостиная з...</td>\n",
       "    </tr>\n",
       "    <tr>\n",
       "      <th>8</th>\n",
       "      <td>Nieuwmarkt as well as Kalverstraat, Hermitage ...</td>\n",
       "      <td>До площади Ниумаркт, торговой улицы Калверштра...</td>\n",
       "    </tr>\n",
       "    <tr>\n",
       "      <th>9</th>\n",
       "      <td>The Danube Delta is a natural reserve where yo...</td>\n",
       "      <td>Дельта Дуная является природным заповедником, ...</td>\n",
       "    </tr>\n",
       "    <tr>\n",
       "      <th>10</th>\n",
       "      <td>The air-conditioned rooms offer a flat-screen ...</td>\n",
       "      <td>Номера оснащены кондиционером, телевизором с п...</td>\n",
       "    </tr>\n",
       "    <tr>\n",
       "      <th>11</th>\n",
       "      <td>Each apartment is fitted with a balcony, flat-...</td>\n",
       "      <td>Каждые апартаменты располагают балконом, сейфо...</td>\n",
       "    </tr>\n",
       "    <tr>\n",
       "      <th>12</th>\n",
       "      <td>Located 500 metres from Church of the Savior o...</td>\n",
       "      <td>Эти апартаменты с бесплатным Wi-Fi расположены...</td>\n",
       "    </tr>\n",
       "    <tr>\n",
       "      <th>13</th>\n",
       "      <td>The kitchen includes a dishwasher and oven.</td>\n",
       "      <td>На кухне установлены посудомоечная машина и ду...</td>\n",
       "    </tr>\n",
       "    <tr>\n",
       "      <th>14</th>\n",
       "      <td>An array of activities can be enjoyed on site ...</td>\n",
       "      <td>Территория и окрестности отлично подходят для ...</td>\n",
       "    </tr>\n",
       "    <tr>\n",
       "      <th>15</th>\n",
       "      <td>Free WiFi is accessible throughout the premises.</td>\n",
       "      <td>На всей территории работает бесплатный Wi-Fi.</td>\n",
       "    </tr>\n",
       "    <tr>\n",
       "      <th>16</th>\n",
       "      <td>They include flat-screen satellite TV, a safe ...</td>\n",
       "      <td>В них также имеются такие удобства, как телеви...</td>\n",
       "    </tr>\n",
       "    <tr>\n",
       "      <th>17</th>\n",
       "      <td>Free WiFi access is available in all areas.</td>\n",
       "      <td>На всей территории работает бесплатный Wi-Fi.</td>\n",
       "    </tr>\n",
       "    <tr>\n",
       "      <th>18</th>\n",
       "      <td>Valledoria is a 17-minute drive from the prope...</td>\n",
       "      <td>Отель находится в 17 минутах езды от городка В...</td>\n",
       "    </tr>\n",
       "    <tr>\n",
       "      <th>19</th>\n",
       "      <td>Towels and bed linen are provided in this self...</td>\n",
       "      <td>Предоставляются полотенца и постельное белье.</td>\n",
       "    </tr>\n",
       "    <tr>\n",
       "      <th>20</th>\n",
       "      <td>The spa offers massages with a view of the sea...</td>\n",
       "      <td>В спа-центре предлагается массаж с видом на мо...</td>\n",
       "    </tr>\n",
       "    <tr>\n",
       "      <th>21</th>\n",
       "      <td>Paignton Bus and Rail Station is only 5 minute...</td>\n",
       "      <td>Гостевой дом находится всего в 5 минутах ходьб...</td>\n",
       "    </tr>\n",
       "    <tr>\n",
       "      <th>22</th>\n",
       "      <td>A flat-screen TV is offered.</td>\n",
       "      <td>В числе прочих удобств -— телевизор с плоским ...</td>\n",
       "    </tr>\n",
       "    <tr>\n",
       "      <th>23</th>\n",
       "      <td>Organic, locally sourced ingredients are blend...</td>\n",
       "      <td>В стильном ресторане отеля подают блюда средиз...</td>\n",
       "    </tr>\n",
       "    <tr>\n",
       "      <th>24</th>\n",
       "      <td>Each room at Sport Hotel comes with a TV with ...</td>\n",
       "      <td>Каждый номер в отеле Sport оснащен телевизором...</td>\n",
       "    </tr>\n",
       "    <tr>\n",
       "      <th>25</th>\n",
       "      <td>Featuring a well-maintained garden, Emerald Re...</td>\n",
       "      <td>Помимо прочего, разбит ухоженный сад. В гостев...</td>\n",
       "    </tr>\n",
       "    <tr>\n",
       "      <th>26</th>\n",
       "      <td>Guests can unwind in indoor and outdoor hot sp...</td>\n",
       "      <td>Гости могут посетить купальни с водой из горяч...</td>\n",
       "    </tr>\n",
       "    <tr>\n",
       "      <th>27</th>\n",
       "      <td>The apartment features chic décor, high ceilin...</td>\n",
       "      <td>В этих апартаментах с высоким потолком и роско...</td>\n",
       "    </tr>\n",
       "    <tr>\n",
       "      <th>28</th>\n",
       "      <td>You can engage in various activities, such as ...</td>\n",
       "      <td>В окрестностях есть все условия для активного ...</td>\n",
       "    </tr>\n",
       "    <tr>\n",
       "      <th>29</th>\n",
       "      <td>Breakfast is served in the garden, in the room...</td>\n",
       "      <td>Завтрак сервируют в саду, в номерах или в обед...</td>\n",
       "    </tr>\n",
       "    <tr>\n",
       "      <th>...</th>\n",
       "      <td>...</td>\n",
       "      <td>...</td>\n",
       "    </tr>\n",
       "    <tr>\n",
       "      <th>49970</th>\n",
       "      <td>An oven, a microwave and a fridge can be found...</td>\n",
       "      <td>Кухня укомплектована духовкой, микроволновой п...</td>\n",
       "    </tr>\n",
       "    <tr>\n",
       "      <th>49971</th>\n",
       "      <td>Haus Tourneur features bright rooms decorated ...</td>\n",
       "      <td>Светлые номера гостевого дома Haus Tourneur де...</td>\n",
       "    </tr>\n",
       "    <tr>\n",
       "      <th>49972</th>\n",
       "      <td>Pool and garden views are available from the t...</td>\n",
       "      <td>С террасы открывается вид на бассейн и сад.</td>\n",
       "    </tr>\n",
       "    <tr>\n",
       "      <th>49973</th>\n",
       "      <td>A flat-screen TV is featured.</td>\n",
       "      <td>Также в числе удобств телевизор с плоским экра...</td>\n",
       "    </tr>\n",
       "    <tr>\n",
       "      <th>49974</th>\n",
       "      <td>Offering an outdoor pool, Cueva de La Alegría ...</td>\n",
       "      <td>Дом для отпуска расположен в местечке Уэскар. ...</td>\n",
       "    </tr>\n",
       "    <tr>\n",
       "      <th>49975</th>\n",
       "      <td>Luggage storage is offered and you can hire a ...</td>\n",
       "      <td>Помимо этого, на стойке регистрации предоставл...</td>\n",
       "    </tr>\n",
       "    <tr>\n",
       "      <th>49976</th>\n",
       "      <td>Hotel Valery’s rooms are air-conditioned and e...</td>\n",
       "      <td>Номера отеля Valery располагают кондиционером,...</td>\n",
       "    </tr>\n",
       "    <tr>\n",
       "      <th>49977</th>\n",
       "      <td>Each room includes a private bathroom.</td>\n",
       "      <td>Все номера располагают собственной ванной комн...</td>\n",
       "    </tr>\n",
       "    <tr>\n",
       "      <th>49978</th>\n",
       "      <td>Some units feature a seating area to relax in ...</td>\n",
       "      <td>В некоторых из них имеется гостиная зона, где ...</td>\n",
       "    </tr>\n",
       "    <tr>\n",
       "      <th>49979</th>\n",
       "      <td>Getting around is easy with vehicle rentals, a...</td>\n",
       "      <td>За дополнительную плату гостям предоставляются...</td>\n",
       "    </tr>\n",
       "    <tr>\n",
       "      <th>49980</th>\n",
       "      <td>Regular rooms are also equipped with a lamp, d...</td>\n",
       "      <td>К стандартным удобствам номеров также относятс...</td>\n",
       "    </tr>\n",
       "    <tr>\n",
       "      <th>49981</th>\n",
       "      <td>A flat-screen TV is featured.</td>\n",
       "      <td>В числе удобств телевизор с плоским экраном.</td>\n",
       "    </tr>\n",
       "    <tr>\n",
       "      <th>49982</th>\n",
       "      <td>Visitors can also discover the Moselle River w...</td>\n",
       "      <td>Гости могут посетить реку Мозель, расположенну...</td>\n",
       "    </tr>\n",
       "    <tr>\n",
       "      <th>49983</th>\n",
       "      <td>Extras include a desk, bed linen and cleaning ...</td>\n",
       "      <td>Кроме того, в распоряжении гостей письменный с...</td>\n",
       "    </tr>\n",
       "    <tr>\n",
       "      <th>49984</th>\n",
       "      <td>Guests at Chata U Krále Šumavy s.r.o.</td>\n",
       "      <td>В отеле Chata U Krále Šumavy s.r.o.</td>\n",
       "    </tr>\n",
       "    <tr>\n",
       "      <th>49985</th>\n",
       "      <td>Sleepwear and slippers are provided for all gu...</td>\n",
       "      <td>Всем гостям предоставляются пижамы и тапочки. ...</td>\n",
       "    </tr>\n",
       "    <tr>\n",
       "      <th>49986</th>\n",
       "      <td>At B&amp;B de Kaepstander you will find a terrace ...</td>\n",
       "      <td>Гости отеля могут отдохнуть на террасе или зак...</td>\n",
       "    </tr>\n",
       "    <tr>\n",
       "      <th>49987</th>\n",
       "      <td>All rooms at B&amp;B 't Huys van Enaeme come with ...</td>\n",
       "      <td>Все номера отеля типа «постель и завтрак» 't H...</td>\n",
       "    </tr>\n",
       "    <tr>\n",
       "      <th>49988</th>\n",
       "      <td>A microwave, refrigerator and coffee maker are...</td>\n",
       "      <td>Во всех номерах мотеля Americas Best Value Inn...</td>\n",
       "    </tr>\n",
       "    <tr>\n",
       "      <th>49989</th>\n",
       "      <td>Guests can enjoy the on-site bar. Free private...</td>\n",
       "      <td>К услугам гостей бар и бесплатная частная парк...</td>\n",
       "    </tr>\n",
       "    <tr>\n",
       "      <th>49990</th>\n",
       "      <td>Shchurovo Mound Museum is 3 km from Guest Hous...</td>\n",
       "      <td>Музей Щурово городище находится в 3 км от гост...</td>\n",
       "    </tr>\n",
       "    <tr>\n",
       "      <th>49991</th>\n",
       "      <td>A grocery store can be found 100 metres away, ...</td>\n",
       "      <td>Продуктовый магазин находится в 100 метрах, др...</td>\n",
       "    </tr>\n",
       "    <tr>\n",
       "      <th>49992</th>\n",
       "      <td>Pranee Bungalow’s beachfront restaurant serves...</td>\n",
       "      <td>В пляжном ресторане комплекса Pranee Bungalow ...</td>\n",
       "    </tr>\n",
       "    <tr>\n",
       "      <th>49993</th>\n",
       "      <td>The en suite rooms are of various sizes and in...</td>\n",
       "      <td>В номерах разной площади имеется ванная комнат...</td>\n",
       "    </tr>\n",
       "    <tr>\n",
       "      <th>49994</th>\n",
       "      <td>The private bathroom comes with a bath or shower.</td>\n",
       "      <td>В собственной ванной комнате установлена ванна...</td>\n",
       "    </tr>\n",
       "    <tr>\n",
       "      <th>49995</th>\n",
       "      <td>The spacious air-conditioned rooms open out to...</td>\n",
       "      <td>Просторные номера с кондиционером выходят на с...</td>\n",
       "    </tr>\n",
       "    <tr>\n",
       "      <th>49996</th>\n",
       "      <td>Minsk Ring road is a 5-minute drive from the p...</td>\n",
       "      <td>Минская кольцевая автомобильная дорога проходи...</td>\n",
       "    </tr>\n",
       "    <tr>\n",
       "      <th>49997</th>\n",
       "      <td>There is a private bathroom with a shower.</td>\n",
       "      <td>В собственной ванной комнате установлен душ.</td>\n",
       "    </tr>\n",
       "    <tr>\n",
       "      <th>49998</th>\n",
       "      <td>It is a 15-minute drive from Malacca Town Cent...</td>\n",
       "      <td>За 15 минут вы доедете до центра города Малакк...</td>\n",
       "    </tr>\n",
       "    <tr>\n",
       "      <th>49999</th>\n",
       "      <td>Each room at Apartments na Podgornoy is colour...</td>\n",
       "      <td>Все апартаменты « На Подгорной» красочно оформ...</td>\n",
       "    </tr>\n",
       "  </tbody>\n",
       "</table>\n",
       "<p>50000 rows × 2 columns</p>\n",
       "</div>"
      ],
      "text/plain": [
       "                                                       0  \\\n",
       "0      Cordelia Hotel is situated in Tbilisi, a 3-min...   \n",
       "1      At Tupirmarka Lodge you will find a 24-hour fr...   \n",
       "2      Featuring free WiFi in all areas, Naigao Xiaow...   \n",
       "3      Each has a TV and a private bathroom with shower.   \n",
       "4      Your room comes with air conditioning and sate...   \n",
       "5      They are styled in cream-coloured hues and som...   \n",
       "6      The reception team can help guests plan sights...   \n",
       "7      Some units include a seating area for your con...   \n",
       "8      Nieuwmarkt as well as Kalverstraat, Hermitage ...   \n",
       "9      The Danube Delta is a natural reserve where yo...   \n",
       "10     The air-conditioned rooms offer a flat-screen ...   \n",
       "11     Each apartment is fitted with a balcony, flat-...   \n",
       "12     Located 500 metres from Church of the Savior o...   \n",
       "13           The kitchen includes a dishwasher and oven.   \n",
       "14     An array of activities can be enjoyed on site ...   \n",
       "15      Free WiFi is accessible throughout the premises.   \n",
       "16     They include flat-screen satellite TV, a safe ...   \n",
       "17           Free WiFi access is available in all areas.   \n",
       "18     Valledoria is a 17-minute drive from the prope...   \n",
       "19     Towels and bed linen are provided in this self...   \n",
       "20     The spa offers massages with a view of the sea...   \n",
       "21     Paignton Bus and Rail Station is only 5 minute...   \n",
       "22                          A flat-screen TV is offered.   \n",
       "23     Organic, locally sourced ingredients are blend...   \n",
       "24     Each room at Sport Hotel comes with a TV with ...   \n",
       "25     Featuring a well-maintained garden, Emerald Re...   \n",
       "26     Guests can unwind in indoor and outdoor hot sp...   \n",
       "27     The apartment features chic décor, high ceilin...   \n",
       "28     You can engage in various activities, such as ...   \n",
       "29     Breakfast is served in the garden, in the room...   \n",
       "...                                                  ...   \n",
       "49970  An oven, a microwave and a fridge can be found...   \n",
       "49971  Haus Tourneur features bright rooms decorated ...   \n",
       "49972  Pool and garden views are available from the t...   \n",
       "49973                      A flat-screen TV is featured.   \n",
       "49974  Offering an outdoor pool, Cueva de La Alegría ...   \n",
       "49975  Luggage storage is offered and you can hire a ...   \n",
       "49976  Hotel Valery’s rooms are air-conditioned and e...   \n",
       "49977             Each room includes a private bathroom.   \n",
       "49978  Some units feature a seating area to relax in ...   \n",
       "49979  Getting around is easy with vehicle rentals, a...   \n",
       "49980  Regular rooms are also equipped with a lamp, d...   \n",
       "49981                      A flat-screen TV is featured.   \n",
       "49982  Visitors can also discover the Moselle River w...   \n",
       "49983  Extras include a desk, bed linen and cleaning ...   \n",
       "49984              Guests at Chata U Krále Šumavy s.r.o.   \n",
       "49985  Sleepwear and slippers are provided for all gu...   \n",
       "49986  At B&B de Kaepstander you will find a terrace ...   \n",
       "49987  All rooms at B&B 't Huys van Enaeme come with ...   \n",
       "49988  A microwave, refrigerator and coffee maker are...   \n",
       "49989  Guests can enjoy the on-site bar. Free private...   \n",
       "49990  Shchurovo Mound Museum is 3 km from Guest Hous...   \n",
       "49991  A grocery store can be found 100 metres away, ...   \n",
       "49992  Pranee Bungalow’s beachfront restaurant serves...   \n",
       "49993  The en suite rooms are of various sizes and in...   \n",
       "49994  The private bathroom comes with a bath or shower.   \n",
       "49995  The spacious air-conditioned rooms open out to...   \n",
       "49996  Minsk Ring road is a 5-minute drive from the p...   \n",
       "49997         There is a private bathroom with a shower.   \n",
       "49998  It is a 15-minute drive from Malacca Town Cent...   \n",
       "49999  Each room at Apartments na Podgornoy is colour...   \n",
       "\n",
       "                                                       1  \n",
       "0      Отель Cordelia расположен в Тбилиси, в 3 минут...  \n",
       "1      В числе удобств лоджа Tupirmarka круглосуточна...  \n",
       "2      Апартаменты Naigao Xiaowo расположены в городе...  \n",
       "3      В вашем распоряжении также телевизор и собстве...  \n",
       "4      Номер оснащен кондиционером и спутниковым теле...  \n",
       "5      Они оформлены в кремовых тонах, в некоторых из...  \n",
       "6      Сотрудники стойки регистрации с радостью помог...  \n",
       "7      В числе удобств некоторых номеров — гостиная з...  \n",
       "8      До площади Ниумаркт, торговой улицы Калверштра...  \n",
       "9      Дельта Дуная является природным заповедником, ...  \n",
       "10     Номера оснащены кондиционером, телевизором с п...  \n",
       "11     Каждые апартаменты располагают балконом, сейфо...  \n",
       "12     Эти апартаменты с бесплатным Wi-Fi расположены...  \n",
       "13     На кухне установлены посудомоечная машина и ду...  \n",
       "14     Территория и окрестности отлично подходят для ...  \n",
       "15         На всей территории работает бесплатный Wi-Fi.  \n",
       "16     В них также имеются такие удобства, как телеви...  \n",
       "17         На всей территории работает бесплатный Wi-Fi.  \n",
       "18     Отель находится в 17 минутах езды от городка В...  \n",
       "19         Предоставляются полотенца и постельное белье.  \n",
       "20     В спа-центре предлагается массаж с видом на мо...  \n",
       "21     Гостевой дом находится всего в 5 минутах ходьб...  \n",
       "22     В числе прочих удобств -— телевизор с плоским ...  \n",
       "23     В стильном ресторане отеля подают блюда средиз...  \n",
       "24     Каждый номер в отеле Sport оснащен телевизором...  \n",
       "25     Помимо прочего, разбит ухоженный сад. В гостев...  \n",
       "26     Гости могут посетить купальни с водой из горяч...  \n",
       "27     В этих апартаментах с высоким потолком и роско...  \n",
       "28     В окрестностях есть все условия для активного ...  \n",
       "29     Завтрак сервируют в саду, в номерах или в обед...  \n",
       "...                                                  ...  \n",
       "49970  Кухня укомплектована духовкой, микроволновой п...  \n",
       "49971  Светлые номера гостевого дома Haus Tourneur де...  \n",
       "49972        С террасы открывается вид на бассейн и сад.  \n",
       "49973  Также в числе удобств телевизор с плоским экра...  \n",
       "49974  Дом для отпуска расположен в местечке Уэскар. ...  \n",
       "49975  Помимо этого, на стойке регистрации предоставл...  \n",
       "49976  Номера отеля Valery располагают кондиционером,...  \n",
       "49977  Все номера располагают собственной ванной комн...  \n",
       "49978  В некоторых из них имеется гостиная зона, где ...  \n",
       "49979  За дополнительную плату гостям предоставляются...  \n",
       "49980  К стандартным удобствам номеров также относятс...  \n",
       "49981       В числе удобств телевизор с плоским экраном.  \n",
       "49982  Гости могут посетить реку Мозель, расположенну...  \n",
       "49983  Кроме того, в распоряжении гостей письменный с...  \n",
       "49984                В отеле Chata U Krále Šumavy s.r.o.  \n",
       "49985  Всем гостям предоставляются пижамы и тапочки. ...  \n",
       "49986  Гости отеля могут отдохнуть на террасе или зак...  \n",
       "49987  Все номера отеля типа «постель и завтрак» 't H...  \n",
       "49988  Во всех номерах мотеля Americas Best Value Inn...  \n",
       "49989  К услугам гостей бар и бесплатная частная парк...  \n",
       "49990  Музей Щурово городище находится в 3 км от гост...  \n",
       "49991  Продуктовый магазин находится в 100 метрах, др...  \n",
       "49992  В пляжном ресторане комплекса Pranee Bungalow ...  \n",
       "49993  В номерах разной площади имеется ванная комнат...  \n",
       "49994  В собственной ванной комнате установлена ванна...  \n",
       "49995  Просторные номера с кондиционером выходят на с...  \n",
       "49996  Минская кольцевая автомобильная дорога проходи...  \n",
       "49997       В собственной ванной комнате установлен душ.  \n",
       "49998  За 15 минут вы доедете до центра города Малакк...  \n",
       "49999  Все апартаменты « На Подгорной» красочно оформ...  \n",
       "\n",
       "[50000 rows x 2 columns]"
      ]
     },
     "execution_count": 5,
     "metadata": {},
     "output_type": "execute_result"
    }
   ],
   "source": [
    "data_pd"
   ]
  },
  {
   "cell_type": "code",
   "execution_count": 6,
   "metadata": {},
   "outputs": [],
   "source": [
    "with open('Data/data_prep.en', 'w') as f_src,  open('Data/data_prep.ru', 'w') as f_dst:\n",
    "    for idx in range(data_pd.shape[0]):\n",
    "        src_line, dst_line = data_pd[1][idx], data_pd[0][idx]\n",
    "        f_src.write('. ' + src_line + '\\n')\n",
    "        f_dst.write('. ' + dst_line + '\\n')"
   ]
  },
  {
   "cell_type": "code",
   "execution_count": 7,
   "metadata": {},
   "outputs": [],
   "source": [
    "NYM_SYMBOLS = 20000\n",
    "bpe = {}\n",
    "for lang in ['en', 'ru']:\n",
    "    learn_bpe(open('./Data/data_prep.' + lang), open('Data/bpe_rules.' + lang, 'w'), num_symbols=NYM_SYMBOLS)\n",
    "    bpe[lang] = BPE(open('./Data/bpe_rules.' + lang))"
   ]
  },
  {
   "cell_type": "code",
   "execution_count": null,
   "metadata": {},
   "outputs": [],
   "source": []
  },
  {
   "cell_type": "code",
   "execution_count": 8,
   "metadata": {},
   "outputs": [],
   "source": [
    "tokenizer_W = WordPunctTokenizer()\n",
    "def tokenize(x, tokenizer=tokenizer_W):\n",
    "    return \" \".join(tokenizer.tokenize(x.lower()))"
   ]
  },
  {
   "cell_type": "code",
   "execution_count": 9,
   "metadata": {},
   "outputs": [],
   "source": [
    "SRC = Field(tokenize=tokenize,\n",
    "            init_token = '<sos>', \n",
    "            eos_token  = '<eos>', \n",
    "            lower = True)\n",
    "\n",
    "TRG = Field(tokenize=tokenize,\n",
    "            init_token = '<sos>', \n",
    "            eos_token  = '<eos>', \n",
    "            lower = True)\n",
    "\n",
    "dataset = torchtext.data.TabularDataset(\n",
    "    path='data.txt',\n",
    "    format='tsv',\n",
    "    fields=[('trg', TRG), ('src', SRC)]\n",
    ")"
   ]
  },
  {
   "cell_type": "code",
   "execution_count": 10,
   "metadata": {},
   "outputs": [],
   "source": [
    "train_data, valid_data, test_data = dataset.split(split_ratio=[0.8, 0.15, 0.05])"
   ]
  },
  {
   "cell_type": "code",
   "execution_count": 11,
   "metadata": {},
   "outputs": [],
   "source": [
    "# my\n",
    "for dataset in [train_data, valid_data, test_data]:\n",
    "    for line in dataset:\n",
    "        line.src = (bpe['ru'].process_line(line.src)).split(\" \")\n",
    "        line.trg = (bpe['en'].process_line(line.trg)).split(\" \")"
   ]
  },
  {
   "cell_type": "code",
   "execution_count": 12,
   "metadata": {},
   "outputs": [
    {
     "name": "stdout",
     "output_type": "stream",
     "text": [
      "Number of training examples:   40000\n",
      "Number of validation examples: 2500\n",
      "Number of testing examples:    7500\n"
     ]
    }
   ],
   "source": [
    "print(f\"Number of training examples:   {len(train_data.examples)}\")\n",
    "print(f\"Number of validation examples: {len(valid_data.examples)}\")\n",
    "print(f\"Number of testing examples:    {len(test_data .examples)}\")"
   ]
  },
  {
   "cell_type": "code",
   "execution_count": 13,
   "metadata": {},
   "outputs": [],
   "source": [
    "SRC.build_vocab(train_data, min_freq = 3)\n",
    "TRG.build_vocab(train_data, min_freq = 3)"
   ]
  },
  {
   "cell_type": "code",
   "execution_count": 14,
   "metadata": {},
   "outputs": [
    {
     "name": "stdout",
     "output_type": "stream",
     "text": [
      "Unique tokens in source (ru) vocabulary: 3148\n",
      "Unique tokens in target (en) vocabulary: 1763\n"
     ]
    }
   ],
   "source": [
    "print(f\"Unique tokens in source (ru) vocabulary: {len(SRC.vocab)}\")\n",
    "print(f\"Unique tokens in target (en) vocabulary: {len(TRG.vocab)}\")"
   ]
  },
  {
   "cell_type": "markdown",
   "metadata": {},
   "source": [
    "Here are tokens from original (RU) corpus:"
   ]
  },
  {
   "cell_type": "code",
   "execution_count": 15,
   "metadata": {},
   "outputs": [
    {
     "data": {
      "text/plain": [
       "['<unk>',\n",
       " 'en@@',\n",
       " 'ce',\n",
       " 'ov@@',\n",
       " 'ette',\n",
       " 'ler',\n",
       " 'esta',\n",
       " 'convention',\n",
       " 'style',\n",
       " 'café',\n",
       " 'azza',\n",
       " 'waterfront',\n",
       " 'inc@@',\n",
       " 'ín',\n",
       " 'für@@',\n",
       " 'ress']"
      ]
     },
     "execution_count": 15,
     "metadata": {},
     "output_type": "execute_result"
    }
   ],
   "source": [
    "SRC.vocab.itos[::200]"
   ]
  },
  {
   "cell_type": "markdown",
   "metadata": {},
   "source": [
    "And from target (EN) corpus:"
   ]
  },
  {
   "cell_type": "code",
   "execution_count": 16,
   "metadata": {},
   "outputs": [
    {
     "data": {
      "text/plain": [
       "['<unk>',\n",
       " 'port',\n",
       " 'be@@',\n",
       " 'sw@@',\n",
       " 'man@@',\n",
       " 'app@@',\n",
       " 'anta',\n",
       " 'bor@@',\n",
       " 'ality',\n",
       " 'pin@@',\n",
       " 'ize',\n",
       " 'ista',\n",
       " 'í',\n",
       " 'iche',\n",
       " 'ael',\n",
       " 'iunea',\n",
       " 'elli',\n",
       " 'ė@@']"
      ]
     },
     "execution_count": 16,
     "metadata": {},
     "output_type": "execute_result"
    }
   ],
   "source": [
    "TRG.vocab.itos[::100]"
   ]
  },
  {
   "cell_type": "markdown",
   "metadata": {},
   "source": [
    "And here is example from train dataset:"
   ]
  },
  {
   "cell_type": "code",
   "execution_count": 17,
   "metadata": {},
   "outputs": [
    {
     "name": "stdout",
     "output_type": "stream",
     "text": [
      "{'trg': ['the', '2', '-', 'fl@@', 'oor', 'villa', 'h@@', 'as', 'a', 'br@@', 'ight', 'l@@', 'iv@@', 'ing', 'r@@', 'oom', 'with', 'a', 'f@@', 'i@@', 're@@', 'pl@@', 'ace', ',', 's@@', 'of@@', 'as', ',', 'sa@@', 'tell@@', 'ite', 't@@', 'v', 'and', 'd@@', 'v@@', 'd', 'pl@@', 'ay@@', 'er', '.', 'th@@', 'ere', 'is', 'a', 'se@@', 'par@@', 'ate', 'd@@', 'in@@', 'ing', 'ar@@', 'ea', 'off@@', 'er@@', 'ing', 'm@@', 'ount@@', 'ain', 'v@@', 'iew@@', 's', '.'], 'src': ['в@@', 'и@@', 'л@@', 'л@@', 'а', 'с@@', 'ос@@', 'т@@', 'о@@', 'и@@', 'т', 'и@@', 'з', 'с@@', 'в@@', 'е@@', 'т@@', 'л@@', 'ой', 'г@@', 'ос@@', 'т@@', 'ин@@', 'ой', 'с', 'к@@', 'а@@', 'м@@', 'ин@@', 'о@@', 'м', ',', 'д@@', 'и@@', 'в@@', 'а@@', 'н@@', 'а@@', 'м@@', 'и', 'и', 'те@@', 'л@@', 'е@@', 'в@@', 'и@@', 'з@@', 'о@@', 'р@@', 'о@@', 'м', 'с@@', 'о', 'с@@', 'п@@', 'у@@', 'т@@', 'н@@', 'и@@', 'к@@', 'о@@', 'в@@', 'ы@@', 'м@@', 'и', 'к@@', 'а@@', 'н@@', 'а@@', 'л@@', 'а@@', 'м@@', 'и', 'и', 'd@@', 'v@@', 'd', '-', 'п@@', 'л@@', 'е@@', 'е@@', 'р@@', 'о@@', 'м', ',', 'а', 'т@@', 'а@@', 'к@@', 'ж@@', 'е', 'о@@', 'т@@', 'д@@', 'е@@', 'л@@', 'ь@@', 'н@@', 'ой', 'о@@', 'б@@', 'е@@', 'д@@', 'е@@', 'н@@', 'н@@', 'ой', 'з@@', 'о@@', 'н@@', 'ы', 'с', 'в@@', 'и@@', 'до@@', 'м', 'н@@', 'а', 'г@@', 'о@@', 'р@@', 'ы', '.']}\n"
     ]
    }
   ],
   "source": [
    "print(vars(train_data.examples[9]))"
   ]
  },
  {
   "cell_type": "markdown",
   "metadata": {},
   "source": [
    "Let's check the length distributions:"
   ]
  },
  {
   "cell_type": "code",
   "execution_count": 18,
   "metadata": {},
   "outputs": [
    {
     "name": "stdout",
     "output_type": "stream",
     "text": [
      "Length distribution in Train data\n"
     ]
    },
    {
     "data": {
      "image/png": "[encoded data removed]",
      "text/plain": [
       "<Figure size 576x288 with 2 Axes>"
      ]
     },
     "metadata": {
      "needs_background": "light"
     },
     "output_type": "display_data"
    }
   ],
   "source": [
    "src_length = map(len, [vars(x)['src'] for x in train_data.examples])\n",
    "trg_length = map(len, [vars(x)['trg'] for x in train_data.examples])\n",
    "\n",
    "print('Length distribution in Train data')\n",
    "plt.figure(figsize=[8, 4])\n",
    "plt.subplot(1, 2, 1)\n",
    "plt.title(\"source length\")\n",
    "plt.hist(list(src_length), bins=20);\n",
    "\n",
    "plt.subplot(1, 2, 2)\n",
    "plt.title(\"translation length\")\n",
    "plt.hist(list(trg_length), bins=20);"
   ]
  },
  {
   "cell_type": "code",
   "execution_count": 19,
   "metadata": {},
   "outputs": [
    {
     "name": "stdout",
     "output_type": "stream",
     "text": [
      "Length distribution in Test data\n"
     ]
    },
    {
     "data": {
      "image/png": "[encoded data removed]",
      "text/plain": [
       "<Figure size 576x288 with 2 Axes>"
      ]
     },
     "metadata": {
      "needs_background": "light"
     },
     "output_type": "display_data"
    }
   ],
   "source": [
    "src_length = map(len, [vars(x)['src'] for x in test_data.examples])\n",
    "trg_length = map(len, [vars(x)['trg'] for x in test_data.examples])\n",
    "\n",
    "print('Length distribution in Test data')\n",
    "plt.figure(figsize=[8, 4])\n",
    "plt.subplot(1, 2, 1)\n",
    "plt.title(\"source length\")\n",
    "plt.hist(list(src_length), bins=20);\n",
    "\n",
    "plt.subplot(1, 2, 2)\n",
    "plt.title(\"translation length\")\n",
    "plt.hist(list(trg_length), bins=20);"
   ]
  },
  {
   "cell_type": "markdown",
   "metadata": {},
   "source": [
    "### Model side\n",
    "__Here comes simple pipeline of NMT model learning. It almost copies the week03 practice__"
   ]
  },
  {
   "cell_type": "code",
   "execution_count": 20,
   "metadata": {},
   "outputs": [],
   "source": [
    "device = torch.device('cuda:4' if torch.cuda.is_available() else 'cpu')"
   ]
  },
  {
   "cell_type": "code",
   "execution_count": 21,
   "metadata": {},
   "outputs": [
    {
     "data": {
      "text/plain": [
       "device(type='cuda', index=4)"
      ]
     },
     "execution_count": 21,
     "metadata": {},
     "output_type": "execute_result"
    }
   ],
   "source": [
    "device"
   ]
  },
  {
   "cell_type": "code",
   "execution_count": 22,
   "metadata": {},
   "outputs": [],
   "source": [
    "def _len_sort_key(x):\n",
    "    return len(x.src)\n",
    "\n",
    "BATCH_SIZE = 128\n",
    "\n",
    "train_iterator, valid_iterator, test_iterator = BucketIterator.splits(\n",
    "    (train_data, valid_data, test_data), \n",
    "    batch_size = BATCH_SIZE, \n",
    "    device = device,\n",
    "    sort_key=_len_sort_key\n",
    ")"
   ]
  },
  {
   "cell_type": "code",
   "execution_count": 23,
   "metadata": {},
   "outputs": [
    {
     "name": "stdout",
     "output_type": "stream",
     "text": [
      "\n",
      "[torchtext.data.batch.Batch of size 128]\n",
      "\t[.trg]:[torch.cuda.LongTensor of size 112x128 (GPU 4)]\n",
      "\t[.src]:[torch.cuda.LongTensor of size 248x128 (GPU 4)]\n",
      "torch.Size([248, 128]) torch.Size([112, 128])\n"
     ]
    }
   ],
   "source": [
    "for x in train_iterator:\n",
    "    break\n",
    "print(x)\n",
    "print(x.src.shape, x.trg.shape)"
   ]
  },
  {
   "cell_type": "code",
   "execution_count": 24,
   "metadata": {},
   "outputs": [],
   "source": [
    "import my_network\n",
    "Encoder = my_network.Encoder\n",
    "Decoder = my_network.Decoder\n",
    "Seq2Seq = my_network.Seq2Seq"
   ]
  },
  {
   "cell_type": "code",
   "execution_count": 25,
   "metadata": {},
   "outputs": [],
   "source": [
    "INPUT_DIM = len(SRC.vocab)\n",
    "OUTPUT_DIM = len(TRG.vocab)\n",
    "ENC_EMB_DIM = 256\n",
    "DEC_EMB_DIM = 256\n",
    "HID_DIM = 512\n",
    "N_LAYERS = 2\n",
    "ENC_DROPOUT = 0.5\n",
    "DEC_DROPOUT = 0.5\n",
    "\n",
    "enc = Encoder(INPUT_DIM, ENC_EMB_DIM, HID_DIM, N_LAYERS, ENC_DROPOUT)\n",
    "dec = Decoder(OUTPUT_DIM, DEC_EMB_DIM, HID_DIM, N_LAYERS, DEC_DROPOUT)\n",
    "\n",
    "# dont forget to put the model to the right device\n",
    "model = Seq2Seq(enc, dec, device).to(device)"
   ]
  },
  {
   "cell_type": "code",
   "execution_count": 26,
   "metadata": {},
   "outputs": [
    {
     "data": {
      "text/plain": [
       "Seq2Seq(\n",
       "  (encoder): Encoder(\n",
       "    (embedding): Embedding(3148, 256)\n",
       "    (rnn): LSTM(256, 512, num_layers=2, dropout=0.5)\n",
       "    (dropout): Dropout(p=0.5)\n",
       "  )\n",
       "  (decoder): Decoder(\n",
       "    (embedding): Embedding(1763, 256)\n",
       "    (rnn): LSTM(256, 512, num_layers=2, dropout=0.5)\n",
       "    (out): Linear(in_features=512, out_features=1763, bias=True)\n",
       "    (dropout): Dropout(p=0.5)\n",
       "  )\n",
       ")"
      ]
     },
     "execution_count": 26,
     "metadata": {},
     "output_type": "execute_result"
    }
   ],
   "source": [
    "def init_weights(m):\n",
    "    # <YOUR CODE HERE>\n",
    "    for name, param in m.named_parameters():\n",
    "        nn.init.uniform_(param, -0.08, 0.08)\n",
    "        \n",
    "model.apply(init_weights)"
   ]
  },
  {
   "cell_type": "code",
   "execution_count": 27,
   "metadata": {},
   "outputs": [
    {
     "name": "stdout",
     "output_type": "stream",
     "text": [
      "The model has 9,518,051 trainable parameters\n"
     ]
    }
   ],
   "source": [
    "def count_parameters(model):\n",
    "    return sum(p.numel() for p in model.parameters() if p.requires_grad)\n",
    "\n",
    "print(f'The model has {count_parameters(model):,} trainable parameters')"
   ]
  },
  {
   "cell_type": "code",
   "execution_count": 28,
   "metadata": {},
   "outputs": [],
   "source": [
    "PAD_IDX = TRG.vocab.stoi['<pad>']\n",
    "optimizer = optim.Adam(model.parameters())\n",
    "criterion = nn.CrossEntropyLoss(ignore_index = PAD_IDX)"
   ]
  },
  {
   "cell_type": "code",
   "execution_count": 29,
   "metadata": {},
   "outputs": [],
   "source": [
    "def train(model, iterator, optimizer, criterion, clip, train_history=None, valid_history=None):\n",
    "    model.train()\n",
    "    \n",
    "    epoch_loss = 0\n",
    "    history = []\n",
    "    for i, batch in enumerate(iterator):\n",
    "        \n",
    "        src = batch.src\n",
    "        trg = batch.trg\n",
    "        \n",
    "        optimizer.zero_grad()\n",
    "        \n",
    "        output = model(src, trg)\n",
    "        \n",
    "        #trg = [trg sent len, batch size]\n",
    "        #output = [trg sent len, batch size, output dim]\n",
    "        \n",
    "        output = output[1:].view(-1, output.shape[-1])\n",
    "        trg = trg[1:].view(-1)\n",
    "        \n",
    "        #trg = [(trg sent len - 1) * batch size]\n",
    "        #output = [(trg sent len - 1) * batch size, output dim]\n",
    "        \n",
    "        loss = criterion(output, trg)\n",
    "        \n",
    "        loss.backward()\n",
    "        \n",
    "        # Let's clip the gradient\n",
    "        torch.nn.utils.clip_grad_norm_(model.parameters(), clip)\n",
    "        \n",
    "        optimizer.step()\n",
    "        \n",
    "        epoch_loss += loss.item()\n",
    "        \n",
    "        history.append(loss.cpu().data.numpy())\n",
    "        if (i+1)%10==0:\n",
    "            fig, ax = plt.subplots(nrows=1, ncols=2, figsize=(12, 8))\n",
    "\n",
    "            clear_output(True)\n",
    "            ax[0].plot(history, label='train loss')\n",
    "            ax[0].set_xlabel('Batch')\n",
    "            ax[0].set_title('Train loss')\n",
    "            if train_history is not None:\n",
    "                ax[1].plot(train_history, label='general train history')\n",
    "                ax[1].set_xlabel('Epoch')\n",
    "            if valid_history is not None:\n",
    "                ax[1].plot(valid_history, label='general valid history')\n",
    "            plt.legend()\n",
    "            \n",
    "            plt.show()\n",
    "\n",
    "        \n",
    "    return epoch_loss / len(iterator)"
   ]
  },
  {
   "cell_type": "code",
   "execution_count": 30,
   "metadata": {},
   "outputs": [],
   "source": [
    "def evaluate(model, iterator, criterion):\n",
    "    \n",
    "    model.eval()\n",
    "    \n",
    "    epoch_loss = 0\n",
    "    \n",
    "    history = []\n",
    "    \n",
    "    with torch.no_grad():\n",
    "    \n",
    "        for i, batch in enumerate(iterator):\n",
    "\n",
    "            src = batch.src\n",
    "            trg = batch.trg\n",
    "\n",
    "            output = model(src, trg, 0) #turn off teacher forcing\n",
    "\n",
    "            #trg = [trg sent len, batch size]\n",
    "            #output = [trg sent len, batch size, output dim]\n",
    "\n",
    "            output = output[1:].view(-1, output.shape[-1])\n",
    "            trg = trg[1:].view(-1)\n",
    "\n",
    "            #trg = [(trg sent len - 1) * batch size]\n",
    "            #output = [(trg sent len - 1) * batch size, output dim]\n",
    "\n",
    "            loss = criterion(output, trg)\n",
    "            \n",
    "            epoch_loss += loss.item()\n",
    "        \n",
    "    return epoch_loss / len(iterator)"
   ]
  },
  {
   "cell_type": "code",
   "execution_count": 31,
   "metadata": {},
   "outputs": [],
   "source": [
    "def epoch_time(start_time, end_time):\n",
    "    elapsed_time = end_time - start_time\n",
    "    elapsed_mins = int(elapsed_time / 60)\n",
    "    elapsed_secs = int(elapsed_time - (elapsed_mins * 60))\n",
    "    return elapsed_mins, elapsed_secs"
   ]
  },
  {
   "cell_type": "code",
   "execution_count": 32,
   "metadata": {},
   "outputs": [],
   "source": [
    "train_history = []\n",
    "valid_history = []\n",
    "\n",
    "N_EPOCHS = 10\n",
    "CLIP = 1\n",
    "\n",
    "best_valid_loss = float('inf')"
   ]
  },
  {
   "cell_type": "code",
   "execution_count": null,
   "metadata": {},
   "outputs": [
    {
     "data": {
      "image/png": "[encoded data removed]",
      "text/plain": [
       "<Figure size 864x576 with 2 Axes>"
      ]
     },
     "metadata": {
      "needs_background": "light"
     },
     "output_type": "display_data"
    }
   ],
   "source": [
    "%%time\n",
    "for epoch in range(N_EPOCHS):\n",
    "    \n",
    "    start_time = time.time()\n",
    "    \n",
    "    train_loss = train(model, train_iterator, optimizer, criterion, CLIP, train_history, valid_history)\n",
    "    valid_loss = evaluate(model, valid_iterator, criterion)\n",
    "    \n",
    "    end_time = time.time()\n",
    "    \n",
    "    epoch_mins, epoch_secs = epoch_time(start_time, end_time)\n",
    "    \n",
    "    if valid_loss < best_valid_loss:\n",
    "        best_valid_loss = valid_loss\n",
    "        torch.save(model.state_dict(), 'tut1-model.pt')\n",
    "    \n",
    "    train_history.append(train_loss)\n",
    "    valid_history.append(valid_loss)\n",
    "    print(f'Epoch: {epoch+1:02} | Time: {epoch_mins}m {epoch_secs}s')\n",
    "    print(f'\\tTrain Loss: {train_loss:.3f} | Train PPL: {math.exp(train_loss):7.3f}')\n",
    "    print(f'\\t Val. Loss: {valid_loss:.3f} |  Val. PPL: {math.exp(valid_loss):7.3f}')"
   ]
  },
  {
   "cell_type": "markdown",
   "metadata": {},
   "source": [
    "__Let's take a look at our network quality__:"
   ]
  },
  {
   "cell_type": "code",
   "execution_count": null,
   "metadata": {},
   "outputs": [],
   "source": [
    "import utils\n",
    "import imp\n",
    "imp.reload(utils)\n",
    "generate_translation = utils.generate_translation\n",
    "remove_tech_tokens = utils.remove_tech_tokens\n",
    "get_text = utils.get_text\n",
    "flatten = utils.flatten"
   ]
  },
  {
   "cell_type": "code",
   "execution_count": null,
   "metadata": {},
   "outputs": [],
   "source": [
    "batch = next(iter(test_iterator))"
   ]
  },
  {
   "cell_type": "code",
   "execution_count": null,
   "metadata": {},
   "outputs": [],
   "source": [
    "for idx in [1,2]:\n",
    "    src = batch.src[:, idx:idx+1]\n",
    "    trg = batch.trg[:, idx:idx+1]\n",
    "    generate_translation(src, trg, model, TRG.vocab)"
   ]
  },
  {
   "cell_type": "code",
   "execution_count": null,
   "metadata": {},
   "outputs": [],
   "source": [
    "from nltk.translate.bleu_score import corpus_bleu\n",
    "\n",
    "#     \"\"\" Estimates corpora-level BLEU score of model's translations given inp and reference out \"\"\"\n",
    "#     translations, _ = model.translate_lines(inp_lines, **flags)\n",
    "#     # Note: if you experience out-of-memory error, split input lines into batches and translate separately\n",
    "#     return corpus_bleu([[ref] for ref in out_lines], translations) * 100"
   ]
  },
  {
   "cell_type": "code",
   "execution_count": null,
   "metadata": {},
   "outputs": [],
   "source": [
    "import tqdm"
   ]
  },
  {
   "cell_type": "code",
   "execution_count": null,
   "metadata": {},
   "outputs": [],
   "source": [
    "original_text = []\n",
    "generated_text = []\n",
    "model.eval()\n",
    "with torch.no_grad():\n",
    "\n",
    "    for i, batch in tqdm.tqdm(enumerate(test_iterator)):\n",
    "\n",
    "        src = batch.src\n",
    "        trg = batch.trg\n",
    "\n",
    "        output = model(src, trg, 0) #turn off teacher forcing\n",
    "\n",
    "        #trg = [trg sent len, batch size]\n",
    "        #output = [trg sent len, batch size, output dim]\n",
    "\n",
    "        output = output.argmax(dim=-1)\n",
    "        \n",
    "        original_text.extend([get_text(x, TRG.vocab) for x in trg.cpu().numpy().T])\n",
    "        generated_text.extend([get_text(x, TRG.vocab) for x in output.detach().cpu().numpy().T])\n",
    "\n",
    "# original_text = flatten(original_text)\n",
    "# generated_text = flatten(generated_text)"
   ]
  },
  {
   "cell_type": "code",
   "execution_count": null,
   "metadata": {},
   "outputs": [],
   "source": [
    "corpus_bleu([[text] for text in original_text], generated_text) * 100"
   ]
  },
  {
   "cell_type": "markdown",
   "metadata": {},
   "source": [
    "Baseline solution BLEU score is quite low. Try to achieve at least __25__ BLEU on the test set. \n",
    "The checkpoints are:\n",
    "\n",
    "* __18__ - minimal score to submit the homework, 30% of points\n",
    "\n",
    "* __20__ - good score, 70% of points\n",
    "\n",
    "* __25__ - excellent score, 100% of points"
   ]
  },
  {
   "cell_type": "code",
   "execution_count": null,
   "metadata": {},
   "outputs": [],
   "source": []
  }
 ],
 "metadata": {
  "anaconda-cloud": {},
  "colab": {
   "collapsed_sections": [],
   "machine_shape": "hm",
   "name": "homework.ipynb",
   "provenance": []
  },
  "kernelspec": {
   "display_name": "Python 3",
   "language": "python",
   "name": "python3"
  },
  "language_info": {
   "codemirror_mode": {
    "name": "ipython",
    "version": 3
   },
   "file_extension": ".py",
   "mimetype": "text/x-python",
   "name": "python",
   "nbconvert_exporter": "python",
   "pygments_lexer": "ipython3",
   "version": "3.7.3"
  }
 },
 "nbformat": 4,
 "nbformat_minor": 1
}
